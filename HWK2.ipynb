{
 "cells": [
  {
   "cell_type": "markdown",
   "metadata": {},
   "source": [
    "## Excercise 5"
   ]
  },
  {
   "cell_type": "markdown",
   "metadata": {},
   "source": [
    "1. Write a Python program to find those numbers which are divisible by 7 and multiple of 5, between 1500 and 2700 (both included)."
   ]
  },
  {
   "cell_type": "code",
   "execution_count": 2,
   "metadata": {},
   "outputs": [
    {
     "name": "stdout",
     "output_type": "stream",
     "text": [
      "[1505, 1540, 1575, 1610, 1645, 1680, 1715, 1750, 1785, 1820, 1855, 1890, 1925, 1960, 1995, 2030, 2065, 2100, 2135, 2170, 2205, 2240, 2275, 2310, 2345, 2380, 2415, 2450, 2485, 2520, 2555, 2590, 2625, 2660, 2695]\n"
     ]
    }
   ],
   "source": [
    "start = 1500\n",
    "end = 2700\n",
    "number=[]\n",
    "for n in range(start,end+1):\n",
    "    if n%7==0 and n%5==0:\n",
    "        number.append(n)\n",
    "print(number)"
   ]
  },
  {
   "cell_type": "markdown",
   "metadata": {},
   "source": [
    "2. Write a Python program to count the number of even and odd numbers from a series of numbers.\n",
    "<br>example: numbers = (1, 2, 3, 4, 5, 6, 7, 8, 9)\n",
    "<br>output:\n",
    "<br>Number of even numbers : 4\n",
    "<br>Number of odd numbers : 5"
   ]
  },
  {
   "cell_type": "code",
   "execution_count": 3,
   "metadata": {},
   "outputs": [
    {
     "name": "stdout",
     "output_type": "stream",
     "text": [
      "Number of even numbers :4\n",
      "Number of odd numbers :5\n"
     ]
    }
   ],
   "source": [
    "numbers = (1, 2, 3, 4, 5, 6, 7, 8, 9)\n",
    "odd=0\n",
    "even=0\n",
    "for n in numbers:\n",
    "    if n%2 ==0:\n",
    "        even+=1\n",
    "    else:\n",
    "        odd+=1\n",
    "print(\"Number of even numbers :\" + str(even))\n",
    "print(\"Number of odd numbers :\" + str(odd))    "
   ]
  },
  {
   "cell_type": "markdown",
   "metadata": {},
   "source": [
    "3. Write a Python program which iterates the integers from 0 to 50. For multiples of three print \"Fizz\" instead of the number and for the multiples of five print \"Buzz\". For numbers which are multiples of both three and five print \"FizzBuzz\".\n",
    "\n",
    "#Expected Output :\n",
    "<br> fizzbuzz\n",
    "<br> 1\n",
    "<br> 2\n",
    "<br> fizz\n",
    "<br> 4\n",
    "<br> buzz\n",
    "<br> ..."
   ]
  },
  {
   "cell_type": "code",
   "execution_count": 6,
   "metadata": {},
   "outputs": [
    {
     "name": "stdout",
     "output_type": "stream",
     "text": [
      "FizzBuzz\n",
      "1\n",
      "2\n",
      "Fizz\n",
      "4\n",
      "Buzz\n",
      "Fizz\n",
      "7\n",
      "8\n",
      "Fizz\n",
      "Buzz\n",
      "11\n",
      "Fizz\n",
      "13\n",
      "14\n",
      "FizzBuzz\n",
      "16\n",
      "17\n",
      "Fizz\n",
      "19\n",
      "Buzz\n",
      "Fizz\n",
      "22\n",
      "23\n",
      "Fizz\n",
      "Buzz\n",
      "26\n",
      "Fizz\n",
      "28\n",
      "29\n",
      "FizzBuzz\n",
      "31\n",
      "32\n",
      "Fizz\n",
      "34\n",
      "Buzz\n",
      "Fizz\n",
      "37\n",
      "38\n",
      "Fizz\n",
      "Buzz\n",
      "41\n",
      "Fizz\n",
      "43\n",
      "44\n",
      "FizzBuzz\n",
      "46\n",
      "47\n",
      "Fizz\n",
      "49\n",
      "Buzz\n"
     ]
    }
   ],
   "source": [
    "for i in range(0,51):\n",
    "    if i%5==0 and i%3==0:\n",
    "        print(\"FizzBuzz\")\n",
    "    elif i%5==0:\n",
    "        print(\"Buzz\")\n",
    "    elif i%3==0:\n",
    "        print(\"Fizz\")\n",
    "    else:\n",
    "        print(i)"
   ]
  },
  {
   "cell_type": "markdown",
   "metadata": {},
   "source": [
    "4. Given a list iterate it and display numbers which are divisible by 5 and if you find number greater than 150 stop the loop iteration\n",
    "<br>examples: list1 = [12, 15, 32, 42, 55, 75, 122, 132, 150, 180, 200]\n",
    "<br> output:\n",
    "<br> >>> 15\n",
    "<br> >>> 55\n",
    "<br> >>> 75\n",
    "<br> >>> 150"
   ]
  },
  {
   "cell_type": "code",
   "execution_count": 26,
   "metadata": {},
   "outputs": [
    {
     "name": "stdout",
     "output_type": "stream",
     "text": [
      "15\n",
      "55\n",
      "75\n",
      "150\n"
     ]
    }
   ],
   "source": [
    "list1=[12, 15, 32, 42, 55, 75, 122, 132, 150, 180, 200]\n",
    "for i in list1:\n",
    "    if i >150:\n",
    "        break\n",
    "    elif i%5==0:\n",
    "        print(i)"
   ]
  },
  {
   "cell_type": "markdown",
   "metadata": {},
   "source": [
    "5. Pick one of the questions above and use range() for a different solution"
   ]
  },
  {
   "cell_type": "code",
   "execution_count": null,
   "metadata": {},
   "outputs": [],
   "source": [
    "# problem 3 used range() function, no other problems suitable to solve through range()"
   ]
  },
  {
   "cell_type": "markdown",
   "metadata": {},
   "source": [
    "6. Pick one of the question above and use comprehension for a different solution"
   ]
  },
  {
   "cell_type": "code",
   "execution_count": 10,
   "metadata": {},
   "outputs": [
    {
     "name": "stdout",
     "output_type": "stream",
     "text": [
      "[1505, 1540, 1575, 1610, 1645, 1680, 1715, 1750, 1785, 1820, 1855, 1890, 1925, 1960, 1995, 2030, 2065, 2100, 2135, 2170, 2205, 2240, 2275, 2310, 2345, 2380, 2415, 2450, 2485, 2520, 2555, 2590, 2625, 2660, 2695]\n"
     ]
    }
   ],
   "source": [
    "# problem 1 comprehension solution\n",
    "number_2 = [n for n in range(1500,2701) if (n%7==0) and (n%5==0)]\n",
    "print(number_2)"
   ]
  },
  {
   "cell_type": "markdown",
   "metadata": {},
   "source": [
    "7. Pcik one of the questions above and use while loop for a different solution"
   ]
  },
  {
   "cell_type": "code",
   "execution_count": 32,
   "metadata": {},
   "outputs": [
    {
     "name": "stdout",
     "output_type": "stream",
     "text": [
      "15\n",
      "55\n",
      "75\n",
      "150\n"
     ]
    }
   ],
   "source": [
    "# problem 4 while solution\n",
    "list1_reverse = list1[::-1]\n",
    "while list1_reverse:    \n",
    "    n= list1_reverse.pop()\n",
    "    if n >150:\n",
    "        break\n",
    "    elif n%5==0:\n",
    "        print(n)\n",
    "\n",
    "    "
   ]
  },
  {
   "cell_type": "markdown",
   "metadata": {},
   "source": [
    "## Excercise 6"
   ]
  },
  {
   "cell_type": "code",
   "execution_count": 1,
   "metadata": {},
   "outputs": [],
   "source": [
    "def calculation(a, b):\n",
    "    '''\n",
    "    Write a function calculation() such that it can accept two variables \n",
    "    and calculate the addition and subtraction of it. \n",
    "    It must return both addition and subtraction in a single return call\n",
    "    Expected output:\n",
    "    res = calculation(40, 10)\n",
    "    print(res)\n",
    "    >>> (50, 30)\n",
    "    Arguments:\n",
    "    a: first number \n",
    "    b: second number\n",
    "    Returns:\n",
    "    sum: sum of two numbers\n",
    "    diff: difference of two numbers\n",
    "    '''\n",
    "    \n",
    "    return a+b,a-b\n",
    "    \n",
    "    \n",
    "\n",
    "\n",
    "\n",
    "\n",
    "def triangle_lambda():\n",
    "    '''\n",
    "    Return a lambda object that takes in a base and height of triangle\n",
    "    and computes the area.\n",
    "    Arguments:\n",
    "    None\n",
    "    Returns:\n",
    "    lambda_triangle_area: the lambda\n",
    "    '''\n",
    "    \n",
    "    lambda_triangle_area = lambda b,h: b*h/2\n",
    "    return lambda_triangle_area\n",
    "    \n",
    "\n",
    "\n",
    "\n",
    "\n",
    "def sort_words(hyphen_str):\n",
    "    '''\n",
    "    Write a Python program that accepts a hyphen-separated sequence of words \n",
    "    as input, and prints the words in a hyphen-separated sequence after \n",
    "    sorting them alphabetically.\n",
    "    Expected output:\n",
    "    sort_words('green-red-yellow-black-white')\n",
    "    >>> 'black-green-red-white-yellow'\n",
    "\n",
    "    Arguments:\n",
    "    hyphen_str: input string separated by hyphen\n",
    "    Returns:\n",
    "    sorted_str: string in a hyphen-separated sequence after \n",
    "    sorting them alphabetically\n",
    "    '''\n",
    "    sorted_hyphen_str = '-'.join(sorted(hyphen_str.split('-')))\n",
    "    return sorted_hyphen_str\n",
    "    \n",
    "\n",
    "\n",
    "\n",
    "\n",
    "def perfect_number():\n",
    "    '''\n",
    "    Write a Python function to check whether a number is perfect or not.\n",
    "    A perfect number is a positive integer that is equal to the sum of \n",
    "    its proper positive divisors. Equivalently, a perfect number is a number \n",
    "    that is half the sum of all of its positive divisors (including itself).\n",
    "    Example: 6 is a perfect number as 1+2+3=6. Also by the second definition,\n",
    "    (1+2+3+6)/2=6. Next perfect number is 28=1+2+4+7+14. Next two perfect\n",
    "    numbers are 496 and 8128.\n",
    "    Argument:\n",
    "    number: number to check\n",
    "    Returns:\n",
    "    perfect: boolean, True if number is perfect\n",
    "    '''\n",
    "    divisors_sum=0\n",
    "    \n",
    "    for i in range(1,number):\n",
    "        if number%i==0:\n",
    "            divisors_sum+=i\n",
    "    if divisors_sum ==number:            #and (divisors_sum+number)/2== number\n",
    "        return True\n",
    "    else:\n",
    "        return False\n",
    "\n",
    "\n",
    "\n",
    "        \n",
    "if __name__ == '__main__':\n",
    "\tpass"
   ]
  },
  {
   "cell_type": "code",
   "execution_count": null,
   "metadata": {},
   "outputs": [],
   "source": []
  },
  {
   "cell_type": "code",
   "execution_count": null,
   "metadata": {},
   "outputs": [],
   "source": []
  }
 ],
 "metadata": {
  "kernelspec": {
   "display_name": "Python 3",
   "language": "python",
   "name": "python3"
  },
  "language_info": {
   "codemirror_mode": {
    "name": "ipython",
    "version": 3
   },
   "file_extension": ".py",
   "mimetype": "text/x-python",
   "name": "python",
   "nbconvert_exporter": "python",
   "pygments_lexer": "ipython3",
   "version": "3.7.4"
  }
 },
 "nbformat": 4,
 "nbformat_minor": 2
}
