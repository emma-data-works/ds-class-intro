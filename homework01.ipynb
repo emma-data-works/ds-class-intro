{
 "cells": [
  {
   "cell_type": "markdown",
   "id": "875ebea7",
   "metadata": {},
   "source": [
    "#### Exercise 3."
   ]
  },
  {
   "cell_type": "markdown",
   "id": "8460f5a9",
   "metadata": {},
   "source": [
    "1. Write a program flow which will assign `grade` by the test scores using the following conditions:\n",
    "\n",
    "    1. If score >= 90, grade=\"A\"\n",
    "    2. If 80 >= score >90, grade=\"B\"\n",
    "    3. If 70 >= score >80, grade=\"C\"\n",
    "    4. If 60 >= score >70, grade=\"D\"\n",
    "    5. IF score < 60, grade=\"F\""
   ]
  },
  {
   "cell_type": "code",
   "execution_count": 15,
   "id": "08f40e43",
   "metadata": {},
   "outputs": [],
   "source": [
    "score = 75"
   ]
  },
  {
   "cell_type": "code",
   "execution_count": 16,
   "id": "302fe68a",
   "metadata": {},
   "outputs": [
    {
     "name": "stdout",
     "output_type": "stream",
     "text": [
      "C\n"
     ]
    }
   ],
   "source": [
    "if score >= 90:\n",
    "    grade = 'A'\n",
    "elif score >=80:\n",
    "    grade = 'B'\n",
    "elif score >= 70:\n",
    "    grade = 'C'\n",
    "elif score >= 60:\n",
    "    grade = 'D'\n",
    "else:\n",
    "    grade = 'F'\n",
    "print(grade)"
   ]
  },
  {
   "cell_type": "markdown",
   "id": "bf9f6fec",
   "metadata": {},
   "source": [
    "2. x=1, y=1, write a flow to assign messge to different value base on different criteria as below, and in the end print out the message:\n",
    "\n",
    "    a. If x less than y, messge=\"x is less than y\"\n",
    "    \n",
    "    b. If x larger than y, messge=\"x is greater than y\"\n",
    "    \n",
    "    c. If x equal to y, messge=\"x is the same as y\""
   ]
  },
  {
   "cell_type": "code",
   "execution_count": 17,
   "id": "11f4b015",
   "metadata": {},
   "outputs": [
    {
     "name": "stdout",
     "output_type": "stream",
     "text": [
      "x is the same as y\n"
     ]
    }
   ],
   "source": [
    "x=1\n",
    "y=1\n",
    "if x<y:\n",
    "    print('x is less than y')\n",
    "elif x>y:\n",
    "    print('x is greater than y')\n",
    "else:\n",
    "    print('x is the same as y')"
   ]
  },
  {
   "cell_type": "markdown",
   "id": "ae059f29",
   "metadata": {},
   "source": [
    "#### Exercise 4. "
   ]
  },
  {
   "cell_type": "markdown",
   "id": "4cc7b397",
   "metadata": {},
   "source": [
    "1. [Read more on `list`](https://docs.python.org/3/tutorial/datastructures.html#more-on-lists) and select 2 list methods not mentioned in class to give examples of using them."
   ]
  },
  {
   "cell_type": "code",
   "execution_count": 29,
   "id": "4522e6ad",
   "metadata": {},
   "outputs": [
    {
     "name": "stdout",
     "output_type": "stream",
     "text": [
      "2\n",
      "[]\n"
     ]
    }
   ],
   "source": [
    "a= [1,2,4,4,5,6,3,7,7,9]\n",
    "print(a.count(7))\n",
    "a.clear()\n",
    "print(a)"
   ]
  },
  {
   "cell_type": "markdown",
   "id": "d9937134",
   "metadata": {},
   "source": [
    "2. How can you check if a `key` is already in a dictionary? Give an example."
   ]
  },
  {
   "cell_type": "code",
   "execution_count": 30,
   "id": "5be85bb6",
   "metadata": {},
   "outputs": [
    {
     "name": "stdout",
     "output_type": "stream",
     "text": [
      "a is not a key in one_dict\n"
     ]
    }
   ],
   "source": [
    "a = 0\n",
    "one_dict = {'data':0, 'science':1}\n",
    "if a in one_dict.keys():\n",
    "    print('a is a key in one_dict')\n",
    "else:\n",
    "    print('a is not a key in one_dict')"
   ]
  },
  {
   "cell_type": "markdown",
   "id": "f49a16fa",
   "metadata": {},
   "source": [
    "3. [Explore how `Counter`](https://docs.python.org/3/library/collections.html#collections.Counter) works as another type of collection. Give 2 examples to use `Counter`."
   ]
  },
  {
   "cell_type": "code",
   "execution_count": 40,
   "id": "4c7f4d50",
   "metadata": {},
   "outputs": [
    {
     "name": "stdout",
     "output_type": "stream",
     "text": [
      "Counter({'e': 2, 'a': 2, 'v': 2, 'r': 2, 'h': 1, 'w': 1})\n",
      "Counter({'boys': 8, 'girls': 4})\n"
     ]
    }
   ],
   "source": [
    "from collections import Counter\n",
    "e = Counter('heavawervr') \n",
    "f = Counter(girls=4, boys=8)  \n",
    "print(e)\n",
    "print(f)"
   ]
  },
  {
   "cell_type": "markdown",
   "id": "a1701a40",
   "metadata": {},
   "source": [
    "4. The Fibonacci Sequence is the series of numbers:\n",
    "0, 1, 1, 2, 3, 5, 8, 13, 21, 34, ...\n",
    "\n",
    "The next number is found by adding up the two numbers before it.\n",
    "Find the last element of the `fibolist`"
   ]
  },
  {
   "cell_type": "code",
   "execution_count": 20,
   "id": "a0c5ece6",
   "metadata": {},
   "outputs": [
    {
     "name": "stdout",
     "output_type": "stream",
     "text": [
      "317811\n"
     ]
    }
   ],
   "source": [
    "fibolist=[0, 1, 1, 2, 3, 5, 8, 13, 21, 34, 55, 89, 144, 233, 377, 610, 987, 1597, 2584, 4181, 6765, 10946, 17711, 28657, 46368, 75025, 121393, 196418, 317811]\n",
    "\n",
    "# code your solution here\n",
    "last_element = fibolist[-1]\n",
    "\n",
    "print(last_element)"
   ]
  },
  {
   "cell_type": "markdown",
   "id": "afaa91b4",
   "metadata": {},
   "source": [
    "5. Calculate the sum of `fibolist`"
   ]
  },
  {
   "cell_type": "code",
   "execution_count": 19,
   "id": "2563198d",
   "metadata": {},
   "outputs": [
    {
     "name": "stdout",
     "output_type": "stream",
     "text": [
      "832039\n"
     ]
    }
   ],
   "source": [
    "sum_fibolist = sum(fibolist)\n",
    "\n",
    "print(sum_fibolist)"
   ]
  },
  {
   "cell_type": "markdown",
   "id": "e0e63ada",
   "metadata": {},
   "source": [
    "6. Calculate and append the next fibonacci number to `fibolist`."
   ]
  },
  {
   "cell_type": "code",
   "execution_count": 21,
   "id": "72e2b574",
   "metadata": {},
   "outputs": [
    {
     "name": "stdout",
     "output_type": "stream",
     "text": [
      "[0, 1, 1, 2, 3, 5, 8, 13, 21, 34, 55, 89, 144, 233, 377, 610, 987, 1597, 2584, 4181, 6765, 10946, 17711, 28657, 46368, 75025, 121393, 196418, 317811, 514229]\n"
     ]
    }
   ],
   "source": [
    "next_element = fibolist[-1] + fibolist[-2]\n",
    "fibolist.append(next_element)\n",
    "print(fibolist)"
   ]
  },
  {
   "cell_type": "markdown",
   "id": "aa610d37",
   "metadata": {},
   "source": [
    "7. Create a reversed copy of fibolist without permanently reversing fibolist liteslf."
   ]
  },
  {
   "cell_type": "code",
   "execution_count": 26,
   "id": "801cf74a",
   "metadata": {},
   "outputs": [
    {
     "name": "stdout",
     "output_type": "stream",
     "text": [
      "[0, 1, 1, 2, 3, 5, 8, 13, 21, 34, 55, 89, 144, 233, 377, 610, 987, 1597, 2584, 4181, 6765, 10946, 17711, 28657, 46368, 75025, 121393, 196418, 317811, 514229]\n",
      "[514229, 317811, 196418, 121393, 75025, 46368, 28657, 17711, 10946, 6765, 4181, 2584, 1597, 987, 610, 377, 233, 144, 89, 55, 34, 21, 13, 8, 5, 3, 2, 1, 1, 0]\n"
     ]
    }
   ],
   "source": [
    "import copy\n",
    "copy_fibolist = copy.deepcopy(fibolist)\n",
    "copy_fibolist.reverse()\n",
    "print(fibolist)\n",
    "\n",
    "print(copy_fibolist)"
   ]
  },
  {
   "cell_type": "markdown",
   "id": "4ca98320",
   "metadata": {},
   "source": [
    "8. Check if `29473` is a fibonacci number, and assign the anser to variable `fibo_29473`"
   ]
  },
  {
   "cell_type": "code",
   "execution_count": 22,
   "id": "4f870f4f",
   "metadata": {},
   "outputs": [
    {
     "name": "stdout",
     "output_type": "stream",
     "text": [
      "False\n"
     ]
    }
   ],
   "source": [
    "fibo_29473 = 29473 in fibolist\n",
    "print(fibo_29473)"
   ]
  },
  {
   "cell_type": "markdown",
   "id": "a18aaaaa",
   "metadata": {},
   "source": [
    "9. Create two sets. Calculate the union, intersection, difference and symmetric difference for the two sets."
   ]
  },
  {
   "cell_type": "code",
   "execution_count": 41,
   "id": "b0d8bab7",
   "metadata": {},
   "outputs": [
    {
     "name": "stdout",
     "output_type": "stream",
     "text": [
      "{'l', 'o', 'g', 'n', 'e', 'k', 'r', 'a', 's'}\n",
      "{'o', 'j', 'g', 'b', 'i', 'n', 'f', 'e', 'v', 'r', 'd', 'a', 's', 'p'}\n",
      "{'l', 'j', 'b', 'n', 'f', 'e', 'a', 'd', 'o', 'g', 'i', 'k', 'r', 'v', 's', 'p'}\n",
      "{'o', 'g', 'n', 'e', 'r', 'a', 's'}\n",
      "{'l', 'k'}\n",
      "{'l', 'j', 'b', 'i', 'f', 'v', 'k', 'd', 'p'}\n"
     ]
    }
   ],
   "source": [
    "c=set('gasgrenkolklng')\n",
    "d=set('fdabgsgjienonpasdnvr')\n",
    "print(c)\n",
    "print(d)\n",
    "print(c.union(d))\n",
    "print(c.intersection(d))\n",
    "print(c.difference(d))\n",
    "print(c.symmetric_difference(d))"
   ]
  },
  {
   "cell_type": "markdown",
   "id": "8883b50b",
   "metadata": {},
   "source": [
    "10. Creat a dictionary using at least two different methods."
   ]
  },
  {
   "cell_type": "code",
   "execution_count": 31,
   "id": "37f51e62",
   "metadata": {},
   "outputs": [
    {
     "name": "stdout",
     "output_type": "stream",
     "text": [
      "{'ty': 0, 'bk': 1}\n",
      "{'ty': 0, 'bk': 1}\n"
     ]
    }
   ],
   "source": [
    "two_dict = {'ty':0, 'bk':1}\n",
    "three_dict = dict(ty=0, bk=1)\n",
    "print(two_dict)\n",
    "print(three_dict)"
   ]
  },
  {
   "cell_type": "markdown",
   "id": "032f435d",
   "metadata": {},
   "source": [
    "11. Check if `2` and `9999` are fibonacci numbers. Create a dictionary `fibo_dict` with the numbers as keys, and boolean value=`True` if the number is fibonacci number, and `False` otherwise."
   ]
  },
  {
   "cell_type": "code",
   "execution_count": 32,
   "id": "7487108f",
   "metadata": {},
   "outputs": [
    {
     "name": "stdout",
     "output_type": "stream",
     "text": [
      "{2: True, 9999: False}\n"
     ]
    }
   ],
   "source": [
    "fibo_dict = {2:2 in fibolist, 9999: 9999 in fibolist}\n",
    "print(fibo_dict)"
   ]
  },
  {
   "cell_type": "code",
   "execution_count": null,
   "id": "0e4ad1cb",
   "metadata": {},
   "outputs": [],
   "source": []
  }
 ],
 "metadata": {
  "kernelspec": {
   "display_name": "Python 3",
   "language": "python",
   "name": "python3"
  },
  "language_info": {
   "codemirror_mode": {
    "name": "ipython",
    "version": 3
   },
   "file_extension": ".py",
   "mimetype": "text/x-python",
   "name": "python",
   "nbconvert_exporter": "python",
   "pygments_lexer": "ipython3",
   "version": "3.7.10"
  }
 },
 "nbformat": 4,
 "nbformat_minor": 5
}
