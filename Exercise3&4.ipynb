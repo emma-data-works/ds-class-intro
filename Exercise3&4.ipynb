{
 "cells": [
  {
   "cell_type": "markdown",
   "id": "2767ca32",
   "metadata": {},
   "source": [
    "#### Exercise 3."
   ]
  },
  {
   "cell_type": "markdown",
   "id": "1ac44b1e",
   "metadata": {},
   "source": [
    "1. Write a program flow which will assign `grade` by the test scores using the following conditions:\n",
    "\n",
    "    1. If score >= 90, grade=\"A\"\n",
    "    2. If 80 >= score >90, grade=\"B\"\n",
    "    3. If 70 >= score >80, grade=\"C\"\n",
    "    4. If 60 >= score >70, grade=\"D\"\n",
    "    5. IF score < 60, grade=\"F\""
   ]
  },
  {
   "cell_type": "code",
   "execution_count": 12,
   "id": "47557a7d",
   "metadata": {},
   "outputs": [
    {
     "name": "stdout",
     "output_type": "stream",
     "text": [
      "Grade = A\n"
     ]
    }
   ],
   "source": [
    "score = 95 #Enter your score here\n",
    "output = 'Grade = '\n",
    "\n",
    "if score >= 90:\n",
    "    print(output + 'A')\n",
    "elif score >= 80:\n",
    "    print(output + 'B')\n",
    "elif score >= 70:\n",
    "    print(output + 'C')\n",
    "elif score >= 60:\n",
    "    print(output + 'D')\n",
    "else:\n",
    "    print(output + 'F')"
   ]
  },
  {
   "cell_type": "markdown",
   "id": "854eaff8",
   "metadata": {},
   "source": [
    "2. x=1, y=1, write a flow to assign messge to different value base on different criteria as below, and in the end print out the message:\n",
    "\n",
    "    a. If x less than y, messge=\"x is less than y\"\n",
    "    \n",
    "    b. If x larger than y, messge=\"x is greater than y\"\n",
    "    \n",
    "    c. If x equal to y, messge=\"x is the same as y\""
   ]
  },
  {
   "cell_type": "code",
   "execution_count": 22,
   "id": "06cdc041",
   "metadata": {},
   "outputs": [
    {
     "name": "stdout",
     "output_type": "stream",
     "text": [
      "x is the same as y\n"
     ]
    }
   ],
   "source": [
    "x = 1\n",
    "y = 1 #Enter x, y values here\n",
    "comp = 'greater than'\n",
    "\n",
    "if x < y:\n",
    "    comp = 'less than'\n",
    "if x == y:\n",
    "    comp = 'the same as'\n",
    "print('x is ' + comp + ' y')"
   ]
  },
  {
   "cell_type": "markdown",
   "id": "bfb90393",
   "metadata": {},
   "source": [
    "#### Exercise 4."
   ]
  },
  {
   "cell_type": "markdown",
   "id": "45fc6422",
   "metadata": {},
   "source": [
    "1. [Read more on `list`](https://docs.python.org/3/tutorial/datastructures.html#more-on-lists) and select 2 list methods not mentioned in class to give examples of using them."
   ]
  },
  {
   "cell_type": "code",
   "execution_count": 36,
   "id": "0bd98c65",
   "metadata": {},
   "outputs": [
    {
     "data": {
      "text/plain": [
       "[1, 5, 6, 1, '1', 9, 10, 'o', 'n', 'e', '_', 'l', 'i', 's', 't']"
      ]
     },
     "execution_count": 36,
     "metadata": {},
     "output_type": "execute_result"
    }
   ],
   "source": [
    "one_list = [1,5,6,1,'1',9,10]\n",
    "one_list.extend('one_list')\n",
    "one_list"
   ]
  },
  {
   "cell_type": "code",
   "execution_count": 37,
   "id": "b871395f",
   "metadata": {},
   "outputs": [
    {
     "data": {
      "text/plain": [
       "2"
      ]
     },
     "execution_count": 37,
     "metadata": {},
     "output_type": "execute_result"
    }
   ],
   "source": [
    "one_list.count(1)"
   ]
  },
  {
   "cell_type": "markdown",
   "id": "38eca953",
   "metadata": {},
   "source": [
    "2. How can you check if a `key` is already in a dictionary? Give an example."
   ]
  },
  {
   "cell_type": "code",
   "execution_count": 45,
   "id": "90aa58c9",
   "metadata": {},
   "outputs": [
    {
     "data": {
      "text/plain": [
       "True"
      ]
     },
     "execution_count": 45,
     "metadata": {},
     "output_type": "execute_result"
    }
   ],
   "source": [
    "this_dict = {'ds':'class', 'homework':1, 3:'#'}\n",
    "\n",
    "'ds' in this_dict"
   ]
  },
  {
   "cell_type": "code",
   "execution_count": 47,
   "id": "f86a35be",
   "metadata": {},
   "outputs": [
    {
     "data": {
      "text/plain": [
       "False"
      ]
     },
     "execution_count": 47,
     "metadata": {},
     "output_type": "execute_result"
    }
   ],
   "source": [
    "2 in this_dict"
   ]
  },
  {
   "cell_type": "markdown",
   "id": "b1a9b725",
   "metadata": {},
   "source": [
    "3. [Explore how `Counter`](https://docs.python.org/3/library/collections.html#collections.Counter) works as another type of collection. Give 2 examples to use `Counter`."
   ]
  },
  {
   "cell_type": "code",
   "execution_count": 70,
   "id": "c2df193b",
   "metadata": {},
   "outputs": [
    {
     "data": {
      "text/plain": [
       "[('d', 87), ('b', 9)]"
      ]
     },
     "execution_count": 70,
     "metadata": {},
     "output_type": "execute_result"
    }
   ],
   "source": [
    "from collections import Counter\n",
    "one_c = Counter(a = 2, b = 9, c = 5, d = 87, e = -6)\n",
    "one_c.most_common(2)"
   ]
  },
  {
   "cell_type": "code",
   "execution_count": 71,
   "id": "c0b4159f",
   "metadata": {},
   "outputs": [
    {
     "data": {
      "text/plain": [
       "Counter({'a': -1, 'b': 9, 'c': -65, 'd': 87, 'e': 60})"
      ]
     },
     "execution_count": 71,
     "metadata": {},
     "output_type": "execute_result"
    }
   ],
   "source": [
    "two_c = Counter(a = 3, c = 70, e = -66)\n",
    "one_c.subtract(two_c)\n",
    "one_c"
   ]
  },
  {
   "cell_type": "markdown",
   "id": "19fa130e",
   "metadata": {},
   "source": [
    "4. The Fibonacci Sequence is the series of numbers:\n",
    "0, 1, 1, 2, 3, 5, 8, 13, 21, 34, ...\n",
    "\n",
    "The next number is found by adding up the two numbers before it.\n",
    "Find the last element of the `fibolist`"
   ]
  },
  {
   "cell_type": "code",
   "execution_count": 83,
   "id": "81ee20ea",
   "metadata": {},
   "outputs": [
    {
     "data": {
      "text/plain": [
       "317811"
      ]
     },
     "execution_count": 83,
     "metadata": {},
     "output_type": "execute_result"
    }
   ],
   "source": [
    "fibolist=[0, 1, 1, 2, 3, 5, 8, 13, 21, 34, 55, 89, 144, 233, 377, 610, 987, 1597, 2584, 4181, 6765, 10946, 17711, 28657, 46368, 75025, 121393, 196418, 317811]\n",
    "\n",
    "# code your solution here\n",
    "fibolist[-1]"
   ]
  },
  {
   "cell_type": "markdown",
   "id": "a7de2212",
   "metadata": {},
   "source": [
    "5. Calculate the sum of `fibolist`"
   ]
  },
  {
   "cell_type": "code",
   "execution_count": 84,
   "id": "784d7e15",
   "metadata": {},
   "outputs": [
    {
     "data": {
      "text/plain": [
       "832039"
      ]
     },
     "execution_count": 84,
     "metadata": {},
     "output_type": "execute_result"
    }
   ],
   "source": [
    "sum(fibolist)"
   ]
  },
  {
   "cell_type": "markdown",
   "id": "d2cd41fe",
   "metadata": {},
   "source": [
    "6. Calculate and append the next fibonacci number to `fibolist`."
   ]
  },
  {
   "cell_type": "code",
   "execution_count": 85,
   "id": "488e17b8",
   "metadata": {},
   "outputs": [
    {
     "name": "stdout",
     "output_type": "stream",
     "text": [
      "[0, 1, 1, 2, 3, 5, 8, 13, 21, 34, 55, 89, 144, 233, 377, 610, 987, 1597, 2584, 4181, 6765, 10946, 17711, 28657, 46368, 75025, 121393, 196418, 317811, 514229]\n"
     ]
    }
   ],
   "source": [
    "fibolist.append(fibolist[-1] + fibolist[-2])\n",
    "print(fibolist)"
   ]
  },
  {
   "cell_type": "markdown",
   "id": "01032e4c",
   "metadata": {},
   "source": [
    "7. Create a reversed copy of fibolist without permanently reversing fibolist liteslf."
   ]
  },
  {
   "cell_type": "code",
   "execution_count": 103,
   "id": "a8779cff",
   "metadata": {},
   "outputs": [
    {
     "name": "stdout",
     "output_type": "stream",
     "text": [
      "[514229, 317811, 196418, 121393, 75025, 46368, 28657, 17711, 10946, 6765, 4181, 2584, 1597, 987, 610, 377, 233, 144, 89, 55, 34, 21, 13, 8, 5, 3, 2, 1, 1, 0]\n"
     ]
    }
   ],
   "source": [
    "print(fibolist[::-1])"
   ]
  },
  {
   "cell_type": "code",
   "execution_count": 105,
   "id": "5335ca00",
   "metadata": {},
   "outputs": [
    {
     "name": "stdout",
     "output_type": "stream",
     "text": [
      "[0, 1, 1, 2, 3, 5, 8, 13, 21, 34, 55, 89, 144, 233, 377, 610, 987, 1597, 2584, 4181, 6765, 10946, 17711, 28657, 46368, 75025, 121393, 196418, 317811, 514229]\n"
     ]
    }
   ],
   "source": [
    "print(fibolist)"
   ]
  },
  {
   "cell_type": "markdown",
   "id": "22a3dc2e",
   "metadata": {},
   "source": [
    "8. Check if `29473` is a fibonacci number, and assign the anser to variable `fibo_29473`"
   ]
  },
  {
   "cell_type": "code",
   "execution_count": 109,
   "id": "a27ff84a",
   "metadata": {},
   "outputs": [
    {
     "data": {
      "text/plain": [
       "False"
      ]
     },
     "execution_count": 109,
     "metadata": {},
     "output_type": "execute_result"
    }
   ],
   "source": [
    "fibo_29473 = 29473 in fibolist\n",
    "fibo_29473"
   ]
  },
  {
   "cell_type": "markdown",
   "id": "3655c7f4",
   "metadata": {},
   "source": [
    "9. Create two sets. Calculate the union, intersection, difference and symmetric difference for the two sets."
   ]
  },
  {
   "cell_type": "code",
   "execution_count": 112,
   "id": "97db7ec1",
   "metadata": {},
   "outputs": [
    {
     "name": "stdout",
     "output_type": "stream",
     "text": [
      "{'w', 'l', 'c', 'k', 'm', 'r', 'h', 'e', 's', 'o'}\n",
      "{'w', 'k', 'r', 'h', 'o'}\n",
      "{'m', 'e'}\n",
      "{'c', 's', 'l'}\n",
      "{'l', 'c', 'm', 'e', 's'}\n"
     ]
    }
   ],
   "source": [
    "Aset = set('homework')\n",
    "Bset = set('schoolwork')\n",
    "\n",
    "print(Aset | Bset) #Union\n",
    "print(Aset & Bset) #Intersection\n",
    "print(Aset - Bset) #Difference - in Aset but not in Bset\n",
    "print(Bset - Aset) #Difference - in Bset but not in Aset\n",
    "print(Aset ^ Bset) #Symmetric difference"
   ]
  },
  {
   "cell_type": "markdown",
   "id": "d387aae9",
   "metadata": {},
   "source": [
    "10. Creat a dictionary using at least two different methods."
   ]
  },
  {
   "cell_type": "code",
   "execution_count": 116,
   "id": "00a5d309",
   "metadata": {},
   "outputs": [
    {
     "name": "stdout",
     "output_type": "stream",
     "text": [
      "{'hello': 1, 'class': 'good'} {'data': 2, 'science': ['fun']}\n"
     ]
    }
   ],
   "source": [
    "Adict = {'hello': 1, 'class': 'good'}\n",
    "Bdict = dict(data = 2, science = ['fun'])\n",
    "print(Adict,Bdict)"
   ]
  },
  {
   "cell_type": "markdown",
   "id": "938ffb3a",
   "metadata": {},
   "source": [
    "11. Check if `2` and `9999` are fibonacci numbers. Create a dictionary `fibo_dict` with the numbers as keys, and boolean value=`True` if the number is fibonacci number, and `False` otherwise."
   ]
  },
  {
   "cell_type": "code",
   "execution_count": 121,
   "id": "9dc68a0e",
   "metadata": {},
   "outputs": [
    {
     "name": "stdout",
     "output_type": "stream",
     "text": [
      "{2: True, 9999: False}\n"
     ]
    }
   ],
   "source": [
    "a, b = 2, 9999 #Enter values here\n",
    "fibo_dict = {}\n",
    "\n",
    "if a in fibolist:\n",
    "    fibo_dict[a] = True\n",
    "else:\n",
    "    fibo_dict[a] = False\n",
    "if b in fibolist:\n",
    "    fibo_dict[b] = True\n",
    "else:\n",
    "    fibo_dict[b] = False\n",
    "print(fibo_dict)"
   ]
  }
 ],
 "metadata": {
  "kernelspec": {
   "display_name": "Python 3",
   "language": "python",
   "name": "python3"
  },
  "language_info": {
   "codemirror_mode": {
    "name": "ipython",
    "version": 3
   },
   "file_extension": ".py",
   "mimetype": "text/x-python",
   "name": "python",
   "nbconvert_exporter": "python",
   "pygments_lexer": "ipython3",
   "version": "3.9.5"
  }
 },
 "nbformat": 4,
 "nbformat_minor": 5
}
