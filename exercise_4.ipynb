{
    "cells": [
        {
            "cell_type": "markdown",
            "source": [
                "1. Read more on list and select 2 list methods not mentioned in class to give examples of using them."
            ],
            "metadata": {}
        },
        {
            "cell_type": "code",
            "execution_count": 6,
            "source": [
                "lst1 = [ 2, 3, 4, 5, 7, 8, 124124, 8, 3, 2]\n",
                "lst1.reverse()\n",
                "print( f' Reverse the list: {lst1}')\n",
                "print( f' Count of the number of \\'8\\': {lst1.count(8)}')\n"
            ],
            "outputs": [
                {
                    "output_type": "stream",
                    "name": "stdout",
                    "text": [
                        " Reverse the list: [2, 3, 8, 124124, 8, 7, 5, 4, 3, 2]\n",
                        " Count of the number of '8': 2\n"
                    ]
                }
            ],
            "metadata": {}
        },
        {
            "cell_type": "markdown",
            "source": [
                "2. How can you check if a key is already in a dictionary? Give an example."
            ],
            "metadata": {}
        },
        {
            "cell_type": "code",
            "execution_count": 9,
            "source": [
                "fruits = { 'apple': 1, 'orange':2}\n",
                "print( f' Is \\'apple\\' is already in the dict: {\"apple\" in fruits.keys()}')"
            ],
            "outputs": [
                {
                    "output_type": "stream",
                    "name": "stdout",
                    "text": [
                        " Is 'apple' is already in the dict: True\n"
                    ]
                }
            ],
            "metadata": {}
        },
        {
            "cell_type": "markdown",
            "source": [
                "Explore how Counter works as another type of collection. Give 2 examples to use Counter."
            ],
            "metadata": {}
        },
        {
            "cell_type": "code",
            "execution_count": 16,
            "source": [
                "from collections import Counter\n",
                "# use a counter to count the pet in my apartment\n",
                "pets = Counter(cats=4, dogs=8, bear=1) \n",
                "print( f' Enuemrate all pets:\\n     {list(pets.elements())}')\n",
                "# Update my pet log after I buy a tiger, and 2 cats \n",
                "pets.update( tigers=1, cats=2)\n",
                "print( f' Enuemrate all pets:\\n     {list(pets.elements())}')"
            ],
            "outputs": [
                {
                    "output_type": "stream",
                    "name": "stdout",
                    "text": [
                        " Enuemrate all pets:\n",
                        "     ['cats', 'cats', 'cats', 'cats', 'dogs', 'dogs', 'dogs', 'dogs', 'dogs', 'dogs', 'dogs', 'dogs', 'bear']\n",
                        " Enuemrate all pets:\n",
                        "     ['cats', 'cats', 'cats', 'cats', 'cats', 'cats', 'dogs', 'dogs', 'dogs', 'dogs', 'dogs', 'dogs', 'dogs', 'dogs', 'bear', 'tigers']\n"
                    ]
                }
            ],
            "metadata": {}
        },
        {
            "cell_type": "markdown",
            "source": [
                "The Fibonacci Sequence is the series of numbers: 0, 1, 1, 2, 3, 5, 8, 13, 21, 34, ..."
            ],
            "metadata": {}
        },
        {
            "cell_type": "code",
            "execution_count": 22,
            "source": [
                "fibolist=[0, 1, 1, 2, 3, 5, 8, 13, 21, 34, 55, 89, \n",
                "          144, 233, 377, 610, 987, 1597, 2584, 4181, \n",
                "          6765, 10946, 17711, 28657, 46368, 75025, 121393, 196418, 317811]\n",
                "\n",
                "print( f' The last elements: {fibolist[-1]}')\n",
                "print( f' The sum of the list: {sum(fibolist)}')\n",
                "print( f' Append the next fibonacci: {fibolist.append( fibolist[-1] + fibolist[-2])}')\n",
                "fibolist_rev = fibolist.copy()\n",
                "fibolist_rev.reverse()\n",
                "print( f' The original fibolist: \\n     {fibolist}')\n",
                "print( f' A reverse copy: \\n    {fibolist_rev}')\n",
                "fibo_29473 = 29473 in fibolist\n",
                "print( f' Is 29473 in the list: {fibo_29473}')\n",
                "\n"
            ],
            "outputs": [
                {
                    "output_type": "stream",
                    "name": "stdout",
                    "text": [
                        " The last elements: 317811\n",
                        " The sum of the list: 832039\n",
                        " Append the next fibonacci: None\n",
                        " The original fibolist: \n",
                        "     [0, 1, 1, 2, 3, 5, 8, 13, 21, 34, 55, 89, 144, 233, 377, 610, 987, 1597, 2584, 4181, 6765, 10946, 17711, 28657, 46368, 75025, 121393, 196418, 317811, 514229]\n",
                        " A reverse copy: \n",
                        "    [514229, 317811, 196418, 121393, 75025, 46368, 28657, 17711, 10946, 6765, 4181, 2584, 1597, 987, 610, 377, 233, 144, 89, 55, 34, 21, 13, 8, 5, 3, 2, 1, 1, 0]\n",
                        " Is 29473 in the list: False\n"
                    ]
                }
            ],
            "metadata": {}
        },
        {
            "cell_type": "markdown",
            "source": [
                "Create two sets. Calculate the union, intersection, difference and symmetric difference for the two sets."
            ],
            "metadata": {}
        },
        {
            "cell_type": "code",
            "execution_count": 29,
            "source": [
                "import numpy as np \n",
                "A = set(np.random.choice( 10, size=9))\n",
                "B = set(np.random.choice( 10, size=8))\n",
                "print( f' Set A: {A} \\n Set B: {B}')\n",
                "print( f' The union AUB: {A.union(B)}')\n",
                "print( f' The intersection AnB: {A.intersection(B)}')\n",
                "print( f' The symmetric difference AUB - AnB: {A ^ B}')\n",
                "print( f' The symmetric difference AUB - AnB: {A.union(B) - A.intersection(B)}')\n",
                "print( f' Elments in A but not in B: {A-B} \\n Elments in B but not in A: {B-A}')\n"
            ],
            "outputs": [
                {
                    "output_type": "stream",
                    "name": "stdout",
                    "text": [
                        " Set A: {1, 3, 5, 7} \n",
                        " Set B: {1, 4, 5, 7, 8}\n",
                        " The union AUB: {1, 3, 4, 5, 7, 8}\n",
                        " The intersection AnB: {1, 5, 7}\n",
                        " The symmetric difference AUB - AnB: {3, 4, 8}\n",
                        " The symmetric difference AUB - AnB: {8, 3, 4}\n",
                        " Elments in A but not in B: {3} \n",
                        " Elments in B but not in A: {8, 4}\n"
                    ]
                }
            ],
            "metadata": {}
        }
    ],
    "metadata": {
        "orig_nbformat": 4,
        "language_info": {
            "name": "python",
            "version": "3.7.9",
            "mimetype": "text/x-python",
            "codemirror_mode": {
                "name": "ipython",
                "version": 3
            },
            "pygments_lexer": "ipython3",
            "nbconvert_exporter": "python",
            "file_extension": ".py"
        },
        "kernelspec": {
            "name": "python3",
            "display_name": "Python 3.7.9 64-bit ('py3': conda)"
        },
        "interpreter": {
            "hash": "99a492af8fdd2b7fc7456f77474d0e72adda5fe2c05c66babe46aecad8b510bc"
        }
    },
    "nbformat": 4,
    "nbformat_minor": 2
}