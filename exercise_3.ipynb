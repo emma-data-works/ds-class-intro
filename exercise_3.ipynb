{
    "cells": [
        {
            "cell_type": "markdown",
            "source": [
                "## Problem 1  \n",
                "\n",
                "Write a program flow which will assign grade by the test scores using the following conditions:\n",
                "\n",
                "* If score >= 90, grade=\"A\"\n",
                "* If 80 >= score >90, grade=\"B\"\n",
                "* If 70 >= score >80, grade=\"C\"\n",
                "* If 60 >= score >70, grade=\"D\"\n",
                "* IF score < 60, grade=\"F\""
            ],
            "metadata": {}
        },
        {
            "cell_type": "code",
            "execution_count": 24,
            "source": [
                "def grader( score):\n",
                "\n",
                "    scales = [ 60, 70, 80, 90 ]\n",
                "    grades = [ 'F', 'D', 'C', 'B']\n",
                "    \n",
                "    for s, g in zip(scales, grades):\n",
                "        if score < s:\n",
                "            return g\n",
                "\n",
                "    return 'A'\n",
                "\n",
                "# test \n",
                "score_lst = [ 55, 65, 75, 85, 95]\n",
                "for score in score_lst:\n",
                "    print( f'{score} ==> {grader( score)}\\n')\n"
            ],
            "outputs": [
                {
                    "output_type": "stream",
                    "name": "stdout",
                    "text": [
                        "55 ==> F\n",
                        "\n",
                        "65 ==> D\n",
                        "\n",
                        "75 ==> C\n",
                        "\n",
                        "85 ==> B\n",
                        "\n",
                        "95 ==> A\n",
                        "\n"
                    ]
                }
            ],
            "metadata": {}
        },
        {
            "cell_type": "markdown",
            "source": [
                "## Problem 2 \n",
                "\n",
                "x=1, y=1, write a flow to assign messge to different value base on different criteria as below, and in the end print out the message:\n",
                "\n",
                "* If x less than y, messge=\"x is less than y\"\n",
                "* If x larger than y, messge=\"x is greater than y\"\n",
                "* If x equal to y, messge=\"x is the same as y\""
            ],
            "metadata": {}
        },
        {
            "cell_type": "code",
            "execution_count": 3,
            "source": [
                "def compare( x, y):\n",
                "\n",
                "    if x < y:\n",
                "        print( 'x is less than y')\n",
                "    elif x > y:\n",
                "        print( 'x is greater than y')\n",
                "    else:\n",
                "        print( 'x is the same as y')\n",
                "\n",
                "# test \n",
                "compare( x=3, y=2), compare( x=1, y=2), compare( x=2, y=2)"
            ],
            "outputs": [
                {
                    "output_type": "stream",
                    "name": "stdout",
                    "text": [
                        "x is greater than y\n",
                        "x is less than y\n",
                        "x is the same as y\n"
                    ]
                },
                {
                    "output_type": "execute_result",
                    "data": {
                        "text/plain": [
                            "(None, None, None)"
                        ]
                    },
                    "metadata": {},
                    "execution_count": 3
                }
            ],
            "metadata": {}
        },
        {
            "cell_type": "code",
            "execution_count": null,
            "source": [],
            "outputs": [],
            "metadata": {}
        }
    ],
    "metadata": {
        "orig_nbformat": 4,
        "language_info": {
            "name": "python",
            "version": "3.7.9",
            "mimetype": "text/x-python",
            "codemirror_mode": {
                "name": "ipython",
                "version": 3
            },
            "pygments_lexer": "ipython3",
            "nbconvert_exporter": "python",
            "file_extension": ".py"
        },
        "kernelspec": {
            "name": "python3",
            "display_name": "Python 3.7.9 64-bit ('py3': conda)"
        },
        "interpreter": {
            "hash": "99a492af8fdd2b7fc7456f77474d0e72adda5fe2c05c66babe46aecad8b510bc"
        }
    },
    "nbformat": 4,
    "nbformat_minor": 2
}