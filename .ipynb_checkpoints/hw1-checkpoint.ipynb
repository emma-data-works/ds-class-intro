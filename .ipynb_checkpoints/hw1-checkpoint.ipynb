{
 "cells": [
  {
   "cell_type": "markdown",
   "id": "198812c5",
   "metadata": {},
   "source": [
    "# Exercise 3.\n",
    "Write a program flow which will assign grade by the test scores using the following conditions:\n",
    "\n",
    "If score >= 90, grade=\"A\"\n",
    "If 80 >= score >90, grade=\"B\"\n",
    "If 70 >= score >80, grade=\"C\"\n",
    "If 60 >= score >70, grade=\"D\"\n",
    "IF score < 60, grade=\"F\""
   ]
  },
  {
   "cell_type": "code",
   "execution_count": 1,
   "id": "dc87ab0a",
   "metadata": {
    "scrolled": true
   },
   "outputs": [
    {
     "name": "stdout",
     "output_type": "stream",
     "text": [
      "D\n"
     ]
    }
   ],
   "source": [
    "score = 60\n",
    "if score >=90:\n",
    "    grade = \"A\"\n",
    "elif score >=80:\n",
    "    grade = \"B\"\n",
    "elif score >=70:\n",
    "    grade = \"C\"\n",
    "elif score >=60:\n",
    "    grade = \"D\"\n",
    "else:\n",
    "    grade= \"F\"\n",
    "print(grade)\n",
    "    "
   ]
  },
  {
   "cell_type": "markdown",
   "id": "57a7700d",
   "metadata": {},
   "source": [
    "# Exercise 4.\n",
    "Read more on list and select 2 list methods not mentioned in class to give examples of using them."
   ]
  },
  {
   "cell_type": "code",
   "execution_count": 2,
   "id": "39b29568",
   "metadata": {},
   "outputs": [
    {
     "name": "stdout",
     "output_type": "stream",
     "text": [
      "['a', 'a', 'a', 'b', 'b'] 3 2\n"
     ]
    }
   ],
   "source": [
    "one_list = list(\"aaa\")\n",
    "one_list.extend(\"bb\")\n",
    "ans = one_list.index(\"b\") #Return zero-based index in the list of the first item whose value is equal to x\n",
    "ans2 = one_list.count(\"b\")\n",
    "print(one_list,ans,ans2)"
   ]
  },
  {
   "cell_type": "markdown",
   "id": "6eb48d97",
   "metadata": {},
   "source": [
    "How can you check if a key is already in a dictionary? Give an example."
   ]
  },
  {
   "cell_type": "code",
   "execution_count": 3,
   "id": "f32990a1",
   "metadata": {},
   "outputs": [
    {
     "name": "stdout",
     "output_type": "stream",
     "text": [
      "{'key1': 'value1', 'key2': 'value2'}\n",
      "value1\n",
      "value2\n"
     ]
    }
   ],
   "source": [
    "dictionary = {'key1':'value1','key2':'value2'}\n",
    "print(dictionary)\n",
    "print(dictionary['key1'])\n",
    "print(dictionary.get('key2'))"
   ]
  },
  {
   "cell_type": "code",
   "execution_count": 4,
   "id": "71c1b2a9",
   "metadata": {},
   "outputs": [
    {
     "data": {
      "text/plain": [
       "True"
      ]
     },
     "execution_count": 4,
     "metadata": {},
     "output_type": "execute_result"
    }
   ],
   "source": [
    "\"key1\" in dictionary.keys()"
   ]
  },
  {
   "cell_type": "markdown",
   "id": "04836717",
   "metadata": {},
   "source": [
    "Explore how Counter works as another type of collection. Give 2 examples to use Counter."
   ]
  },
  {
   "cell_type": "code",
   "execution_count": 5,
   "id": "59cfb137",
   "metadata": {},
   "outputs": [
    {
     "name": "stdout",
     "output_type": "stream",
     "text": [
      "Counter({'I': 2, 'S': 2, 'M': 1})\n",
      "0\n",
      "Counter({'pear': 20, 'apple': 10})\n"
     ]
    }
   ],
   "source": [
    "from collections import Counter \n",
    "#A Counter is a dict subclass for counting hashable objects.\n",
    "# elements are stored as dictionary keys and their counts are stored as dictionary values\n",
    "c = Counter('MISSI')\n",
    "print(c)\n",
    "# they return a zero count for missing items instead of raising a KeyError\n",
    "print(c['a'])\n",
    "c2 = Counter(apple= 10,pear=20)\n",
    "print(c2)"
   ]
  },
  {
   "cell_type": "markdown",
   "id": "9b9ca86e",
   "metadata": {},
   "source": [
    "The Fibonacci Sequence is the series of numbers: 0, 1, 1, 2, 3, 5, 8, 13, 21, 34, ...\n",
    "The next number is found by adding up the two numbers before it. Find the last element of the fibolist"
   ]
  },
  {
   "cell_type": "code",
   "execution_count": 6,
   "id": "8c2ba794",
   "metadata": {},
   "outputs": [
    {
     "name": "stdout",
     "output_type": "stream",
     "text": [
      "317811\n"
     ]
    }
   ],
   "source": [
    "fibolist=[0, 1, 1, 2, 3, 5, 8, 13, 21, 34, 55, 89, 144, 233, 377, 610, 987, 1597, 2584, 4181, 6765, 10946, 17711, 28657, 46368, 75025, 121393, 196418, 317811]\n",
    "\n",
    "last = fibolist[-1]\n",
    "print(last)\n"
   ]
  },
  {
   "cell_type": "markdown",
   "id": "10235fdd",
   "metadata": {},
   "source": [
    "Calculate the sum of fibolist"
   ]
  },
  {
   "cell_type": "code",
   "execution_count": 7,
   "id": "e8a08110",
   "metadata": {
    "scrolled": true
   },
   "outputs": [
    {
     "name": "stdout",
     "output_type": "stream",
     "text": [
      "832039\n"
     ]
    }
   ],
   "source": [
    "print(sum(fibolist))"
   ]
  },
  {
   "cell_type": "markdown",
   "id": "a1fe0401",
   "metadata": {},
   "source": [
    "Calculate and append the next fibonacci number to fibolist"
   ]
  },
  {
   "cell_type": "code",
   "execution_count": 8,
   "id": "4bf8f6bd",
   "metadata": {},
   "outputs": [
    {
     "name": "stdout",
     "output_type": "stream",
     "text": [
      "[0, 1, 1, 2, 3, 5, 8, 13, 21, 34, 55, 89, 144, 233, 377, 610, 987, 1597, 2584, 4181, 6765, 10946, 17711, 28657, 46368, 75025, 121393, 196418, 317811, 514229]\n"
     ]
    }
   ],
   "source": [
    "last2 = fibolist[-1]+fibolist[-2]\n",
    "fibolist.append(last2)\n",
    "print(fibolist)"
   ]
  },
  {
   "cell_type": "markdown",
   "id": "1855bef0",
   "metadata": {},
   "source": [
    "Create a reversed copy of fibolist without permanently reversing fibolist liteslf."
   ]
  },
  {
   "cell_type": "code",
   "execution_count": 11,
   "id": "4d56c2bc",
   "metadata": {},
   "outputs": [
    {
     "name": "stdout",
     "output_type": "stream",
     "text": [
      "[514229, 317811, 196418, 121393, 75025, 46368, 28657, 17711, 10946, 6765, 4181, 2584, 1597, 987, 610, 377, 233, 144, 89, 55, 34, 21, 13, 8, 5, 3, 2, 1, 1, 0] [0, 1, 1, 2, 3, 5, 8, 13, 21, 34, 55, 89, 144, 233, 377, 610, 987, 1597, 2584, 4181, 6765, 10946, 17711, 28657, 46368, 75025, 121393, 196418, 317811, 514229]\n"
     ]
    }
   ],
   "source": [
    "fi_re = fibolist.copy()\n",
    "fi_re.reverse()\n",
    "print(fi_re,fibolist)"
   ]
  },
  {
   "cell_type": "markdown",
   "id": "63552fd9",
   "metadata": {},
   "source": [
    "Check if 29473 is a fibonacci number, and assign the anser to variable fibo_29473"
   ]
  },
  {
   "cell_type": "code",
   "execution_count": 13,
   "id": "d01f93e6",
   "metadata": {},
   "outputs": [],
   "source": [
    "29473 in fibolist\n",
    "fibo_29473 = 29473"
   ]
  },
  {
   "cell_type": "code",
   "execution_count": 15,
   "id": "0bea5154",
   "metadata": {
    "scrolled": true
   },
   "outputs": [
    {
     "name": "stdout",
     "output_type": "stream",
     "text": [
      "False\n"
     ]
    }
   ],
   "source": [
    "fibo_29473 =29473 in fibolist\n",
    "print(fibo_29473)"
   ]
  },
  {
   "cell_type": "markdown",
   "id": "f51bffb6",
   "metadata": {},
   "source": [
    "Create two sets. Calculate the union, intersection, difference and symmetric difference for the two sets."
   ]
  },
  {
   "cell_type": "code",
   "execution_count": 17,
   "id": "903a1062",
   "metadata": {},
   "outputs": [
    {
     "name": "stdout",
     "output_type": "stream",
     "text": [
      "{1, 2, 3, 4, 5, 6}\n",
      "{1, 2, 3}\n",
      "{4}\n",
      "{1, 2, 3, 5, 6}\n"
     ]
    }
   ],
   "source": [
    "set1 = {1,2,3,4}\n",
    "set2 = {4,5,6}\n",
    "print(set1 | set2) #union in 1 or 2\n",
    "print(set1 - set2) # difference in 1 but not in 2\n",
    "print(set1 & set2) # intersection in both\n",
    "print(set1 ^ set2) # symmetric difference in a or b,  not both"
   ]
  },
  {
   "cell_type": "markdown",
   "id": "75c0791c",
   "metadata": {},
   "source": [
    "Creat a dictionary using at least two different methods."
   ]
  },
  {
   "cell_type": "code",
   "execution_count": 21,
   "id": "70dee7d3",
   "metadata": {},
   "outputs": [
    {
     "name": "stdout",
     "output_type": "stream",
     "text": [
      "{'key1': 'value1', 'key2': 'value2'} {'key1': 'value1', 'key2': 'value2'}\n"
     ]
    }
   ],
   "source": [
    "dict1 = {'key1':'value1','key2':'value2'}\n",
    "dict2 = dict(key1 = 'value1', key2 = 'value2')\n",
    "print(dict1, dict2)"
   ]
  },
  {
   "cell_type": "markdown",
   "id": "1282def9",
   "metadata": {},
   "source": [
    "Check if 2 and 9999 are fibonacci numbers. Create a dictionary fibo_dict with the numbers as keys, and boolean value=True if the number is fibonacci number, and False otherwise."
   ]
  },
  {
   "cell_type": "code",
   "execution_count": 26,
   "id": "2287db31",
   "metadata": {},
   "outputs": [
    {
     "name": "stdout",
     "output_type": "stream",
     "text": [
      "True\n",
      "False\n",
      "{2: True, 9999: False}\n"
     ]
    }
   ],
   "source": [
    "print(2 in fibolist)\n",
    "print(9999 in fibolist)\n",
    "fibo_dict = {2:True,9999:False}\n",
    "print(fibo_dict)"
   ]
  },
  {
   "cell_type": "code",
   "execution_count": 29,
   "id": "8ae1eaa8",
   "metadata": {},
   "outputs": [
    {
     "name": "stdout",
     "output_type": "stream",
     "text": [
      "{2: True}\n",
      "{10: False}\n"
     ]
    }
   ],
   "source": [
    "number = 2\n",
    "fibo_dict = {number:number in fibolist}\n",
    "print(fibo_dict)\n",
    "\n",
    "number = 10 \n",
    "fibo_dict = {number:number in fibolist}\n",
    "print(fibo_dict)"
   ]
  }
 ],
 "metadata": {
  "kernelspec": {
   "display_name": "Python 3 (ipykernel)",
   "language": "python",
   "name": "python3"
  },
  "language_info": {
   "codemirror_mode": {
    "name": "ipython",
    "version": 3
   },
   "file_extension": ".py",
   "mimetype": "text/x-python",
   "name": "python",
   "nbconvert_exporter": "python",
   "pygments_lexer": "ipython3",
   "version": "3.9.7"
  }
 },
 "nbformat": 4,
 "nbformat_minor": 5
}
