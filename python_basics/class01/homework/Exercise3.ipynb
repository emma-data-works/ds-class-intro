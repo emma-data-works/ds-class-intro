{
 "cells": [
  {
   "cell_type": "markdown",
   "id": "f32f02fb",
   "metadata": {},
   "source": [
    "Exercise 3."
   ]
  },
  {
   "cell_type": "markdown",
   "id": "cd7c296d",
   "metadata": {},
   "source": [
    "1. Write a program flow which will assign grade by the test scores using the following conditions:\n",
    "\n",
    "    If score >= 90, grade=\"A\"\n",
    "    If 80 >= score >90, grade=\"B\"\n",
    "    If 70 >= score >80, grade=\"C\"\n",
    "    If 60 >= score >70, grade=\"D\"\n",
    "    IF score < 60, grade=\"F\""
   ]
  },
  {
   "cell_type": "code",
   "execution_count": 1,
   "id": "ca5d560e",
   "metadata": {
    "scrolled": false
   },
   "outputs": [
    {
     "name": "stdout",
     "output_type": "stream",
     "text": [
      "A\n"
     ]
    }
   ],
   "source": [
    "#Solution:\n",
    "score = 90\n",
    "grade = \"\"\n",
    "\n",
    "if score >= 90:\n",
    "    grade = \"A\"\n",
    "    print(grade)\n",
    "elif(score >= 80 and score < 90):\n",
    "    grade = \"B\"\n",
    "    print(grade)\n",
    "elif (score >= 70 and score < 80):\n",
    "    grade = \"C\"\n",
    "    print(grade)\n",
    "elif (score >= 60 and score <70):\n",
    "    grade = \"D\"\n",
    "    print(grade)\n",
    "else:\n",
    "    grade = \"F\"\n",
    "    print(grade)"
   ]
  },
  {
   "cell_type": "markdown",
   "id": "12cd6b4d",
   "metadata": {},
   "source": [
    "2. x=1, y=1, write a flow to assign messge to different value base on different criteria as below, and in the end print out the message:\n",
    "\n",
    "    a. If x less than y, messge=\"x is less than y\"\n",
    "\n",
    "    b. If x larger than y, messge=\"x is greater than y\"\n",
    "\n",
    "    c. If x equal to y, messge=\"x is the same as y\""
   ]
  },
  {
   "cell_type": "code",
   "execution_count": 2,
   "id": "e3add958",
   "metadata": {},
   "outputs": [
    {
     "name": "stdout",
     "output_type": "stream",
     "text": [
      "1 is the same as 1\n"
     ]
    }
   ],
   "source": [
    "#Solution:\n",
    "x=1\n",
    "y=1\n",
    "\n",
    "if x < y:\n",
    "    print(str(x)+\" is less than \"+str(y))\n",
    "elif x>y:\n",
    "    print(str(x)+\" is greater than \"+str(y))\n",
    "elif x==y:\n",
    "    print(str(x)+\" is the same as \"+str(y))\n",
    "else:\n",
    "    print(\"unhandled case\")"
   ]
  }
 ],
 "metadata": {
  "kernelspec": {
   "display_name": "Python 3 (ipykernel)",
   "language": "python",
   "name": "python3"
  },
  "language_info": {
   "codemirror_mode": {
    "name": "ipython",
    "version": 3
   },
   "file_extension": ".py",
   "mimetype": "text/x-python",
   "name": "python",
   "nbconvert_exporter": "python",
   "pygments_lexer": "ipython3",
   "version": "3.9.7"
  }
 },
 "nbformat": 4,
 "nbformat_minor": 5
}
