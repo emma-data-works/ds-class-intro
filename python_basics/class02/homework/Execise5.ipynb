{
 "cells": [
  {
   "cell_type": "markdown",
   "id": "4c569d3c",
   "metadata": {},
   "source": [
    "#### Exercise 5.\n",
    "\n",
    "1. Write a Python program to find those numbers which are divisible by 7 and multiple of 5, between 1500 and 2700 (both included)."
   ]
  },
  {
   "cell_type": "code",
   "execution_count": 1,
   "id": "595680f8",
   "metadata": {},
   "outputs": [
    {
     "name": "stdout",
     "output_type": "stream",
     "text": [
      "[1500 1501 1502 ... 2698 2699 2700]\n",
      "[1505, 1540, 1575, 1610, 1645, 1680, 1715, 1750, 1785, 1820, 1855, 1890, 1925, 1960, 1995, 2030, 2065, 2100, 2135, 2170, 2205, 2240, 2275, 2310, 2345, 2380, 2415, 2450, 2485, 2520, 2555, 2590, 2625, 2660, 2695]\n"
     ]
    }
   ],
   "source": [
    "import numpy as np\n",
    "\n",
    "x = np.arange(1500, 2701)\n",
    "result = []\n",
    "print(x)\n",
    "for item in x:\n",
    "    if ((item % 7 == 0) and (item % 5 == 0)):\n",
    "        #print(item)\n",
    "        result.append(item)\n",
    "        \n",
    "print(result)"
   ]
  },
  {
   "cell_type": "markdown",
   "id": "b6dd8b00",
   "metadata": {},
   "source": [
    "2. Write a Python program to count the number of even and odd numbers from a series of numbers.\n",
    "\n",
    "Sample: `numbers = (1, 2, 3, 4, 5, 6, 7, 8, 9)`\n",
    "\n",
    "Expected Output :\n",
    "\n",
    "```\n",
    "Number of even numbers : 4\n",
    "Number of odd numbers : 5\n",
    "```"
   ]
  },
  {
   "cell_type": "code",
   "execution_count": 2,
   "id": "970d1b99",
   "metadata": {
    "scrolled": true
   },
   "outputs": [
    {
     "name": "stdout",
     "output_type": "stream",
     "text": [
      "Number of even numbers : 4\n",
      "Number of odd numbers : 7\n"
     ]
    }
   ],
   "source": [
    "numbers = (1,2,345,435,677,453,12,23,20,35,24)\n",
    "oddCounter = 0\n",
    "evenCounter = 0\n",
    "\n",
    "for item in numbers:\n",
    "    if(item % 2 == 0):\n",
    "        evenCounter = evenCounter+1\n",
    "    elif(item % 2 !=0):\n",
    "        oddCounter = oddCounter+1\n",
    "\n",
    "print(\"Number of even numbers : \"+ str(evenCounter))\n",
    "print(\"Number of odd numbers : \"+ str(oddCounter))"
   ]
  },
  {
   "cell_type": "markdown",
   "id": "5fe6c06f",
   "metadata": {},
   "source": [
    "3. Write a Python program which iterates the integers from 0 to 50. For multiples of three print \"Fizz\" instead of the number and for the multiples of five print \"Buzz\". For numbers which are multiples of both three and five print \"FizzBuzz\".\n",
    "\n",
    "Expected Output :\n",
    "```\n",
    "fizzbuzz\n",
    "1\n",
    "2\n",
    "fizz\n",
    "4\n",
    "buzz\n",
    "...\n",
    "```"
   ]
  },
  {
   "cell_type": "code",
   "execution_count": 3,
   "id": "25378cf2",
   "metadata": {},
   "outputs": [
    {
     "name": "stdout",
     "output_type": "stream",
     "text": [
      "[ 0  1  2  3  4  5  6  7  8  9 10 11 12 13 14 15 16 17 18 19 20 21 22 23\n",
      " 24 25 26 27 28 29 30 31 32 33 34 35 36 37 38 39 40 41 42 43 44 45 46 47\n",
      " 48 49 50]\n",
      "FizzBuzz\n",
      "1\n",
      "2\n",
      "Fizz\n",
      "4\n",
      "Buzz\n",
      "Fizz\n",
      "7\n",
      "8\n",
      "Fizz\n",
      "Buzz\n",
      "11\n",
      "Fizz\n",
      "13\n",
      "14\n",
      "FizzBuzz\n",
      "16\n",
      "17\n",
      "Fizz\n",
      "19\n",
      "Buzz\n",
      "Fizz\n",
      "22\n",
      "23\n",
      "Fizz\n",
      "Buzz\n",
      "26\n",
      "Fizz\n",
      "28\n",
      "29\n",
      "FizzBuzz\n",
      "31\n",
      "32\n",
      "Fizz\n",
      "34\n",
      "Buzz\n",
      "Fizz\n",
      "37\n",
      "38\n",
      "Fizz\n",
      "Buzz\n",
      "41\n",
      "Fizz\n",
      "43\n",
      "44\n",
      "FizzBuzz\n",
      "46\n",
      "47\n",
      "Fizz\n",
      "49\n",
      "Buzz\n"
     ]
    }
   ],
   "source": [
    "import numpy as np \n",
    "list3 = np.arange(0, 51)\n",
    "print(list3)\n",
    "for item in list3:\n",
    "    if (item%5 == 0 and item%3 == 0):\n",
    "        print(\"FizzBuzz\")       \n",
    "    elif(item%5== 0):\n",
    "        print(\"Buzz\")\n",
    "    elif(item%3 == 0):\n",
    "        print(\"Fizz\")\n",
    "    else:\n",
    "        print(item)"
   ]
  },
  {
   "cell_type": "markdown",
   "id": "c9a10891",
   "metadata": {},
   "source": [
    "4. Given a list iterate it and display numbers which are divisible by 5 and if you find number greater than 150 stop the loop iteration\n",
    "\n",
    "`list1 = [12, 15, 32, 42, 55, 75, 122, 132, 150, 180, 200]`\n",
    "\n",
    "Expected output:\n",
    "```\n",
    "15\n",
    "55\n",
    "75\n",
    "150\n",
    "```"
   ]
  },
  {
   "cell_type": "code",
   "execution_count": 4,
   "id": "f49b4313",
   "metadata": {},
   "outputs": [
    {
     "name": "stdout",
     "output_type": "stream",
     "text": [
      "15\n",
      "55\n",
      "75\n",
      "150\n"
     ]
    }
   ],
   "source": [
    "list1 = [12, 15, 32, 42, 55, 75, 122, 132, 150, 180, 200]\n",
    "for item in list1:\n",
    "    if(item >150):\n",
    "        break\n",
    "    elif(item%5==0):\n",
    "        print(item)"
   ]
  },
  {
   "cell_type": "markdown",
   "id": "f7b00a76",
   "metadata": {},
   "source": [
    "5. Pick one of the questions above and use `range()` for a different solution"
   ]
  },
  {
   "cell_type": "markdown",
   "id": "07651505",
   "metadata": {},
   "source": [
    "    3. Write a Python program which iterates the integers from 0 to 50. For multiples of three print \"Fizz\" instead of the number and for the multiples of five print \"Buzz\". For numbers which are multiples of both three and five print \"FizzBuzz\".\n",
    "\n",
    "    Expected Output :\n",
    "\n",
    "    fizzbuzz\n",
    "    1\n",
    "    2\n",
    "    fizz\n",
    "    4\n",
    "    buzz\n"
   ]
  },
  {
   "cell_type": "code",
   "execution_count": 5,
   "id": "73206a8e",
   "metadata": {},
   "outputs": [
    {
     "name": "stdout",
     "output_type": "stream",
     "text": [
      "[0, 1, 2, 3, 4, 5, 6, 7, 8, 9, 10, 11, 12, 13, 14, 15, 16, 17, 18, 19, 20, 21, 22, 23, 24, 25, 26, 27, 28, 29, 30, 31, 32, 33, 34, 35, 36, 37, 38, 39, 40, 41, 42, 43, 44, 45, 46, 47, 48, 49, 50]\n",
      "FizzBuzz\n",
      "1\n",
      "2\n",
      "Fizz\n",
      "4\n",
      "Buzz\n",
      "Fizz\n",
      "7\n",
      "8\n",
      "Fizz\n",
      "Buzz\n",
      "11\n",
      "Fizz\n",
      "13\n",
      "14\n",
      "FizzBuzz\n",
      "16\n",
      "17\n",
      "Fizz\n",
      "19\n",
      "Buzz\n",
      "Fizz\n",
      "22\n",
      "23\n",
      "Fizz\n",
      "Buzz\n",
      "26\n",
      "Fizz\n",
      "28\n",
      "29\n",
      "FizzBuzz\n",
      "31\n",
      "32\n",
      "Fizz\n",
      "34\n",
      "Buzz\n",
      "Fizz\n",
      "37\n",
      "38\n",
      "Fizz\n",
      "Buzz\n",
      "41\n",
      "Fizz\n",
      "43\n",
      "44\n",
      "FizzBuzz\n",
      "46\n",
      "47\n",
      "Fizz\n",
      "49\n",
      "Buzz\n"
     ]
    }
   ],
   "source": [
    "list3 = list(range(0, 51))\n",
    "print(list3)\n",
    "counter = 0\n",
    "while(counter < (len(list3))):\n",
    "    if (list3[counter]%5 == 0 and list3[counter]%3 == 0):\n",
    "        print(\"FizzBuzz\")\n",
    "        counter = counter+1\n",
    "    elif(list3[counter]%5== 0):\n",
    "        print(\"Buzz\")\n",
    "        counter = counter+1\n",
    "    elif(list3[counter]%3 == 0):\n",
    "        print(\"Fizz\")\n",
    "        counter = counter+1\n",
    "    else:\n",
    "        print(list3[counter])\n",
    "        counter = counter+1"
   ]
  },
  {
   "cell_type": "markdown",
   "id": "31ca5b44",
   "metadata": {},
   "source": [
    "6. Pick one of the question above and use comprehensions for a different solution"
   ]
  },
  {
   "cell_type": "markdown",
   "id": "765a5c63",
   "metadata": {},
   "source": [
    "    4. Given a list iterate it and display numbers which are divisible by 5 and if you find number greater than 150 stop the loop iteration\n",
    "\n",
    "    list1 = [12, 15, 32, 42, 55, 75, 122, 132, 150, 180, 200]\n",
    "\n",
    "    Expected output:\n",
    "    15\n",
    "    55\n",
    "    75\n",
    "    150\n"
   ]
  },
  {
   "cell_type": "code",
   "execution_count": 6,
   "id": "eeb8741a",
   "metadata": {},
   "outputs": [
    {
     "name": "stdout",
     "output_type": "stream",
     "text": [
      "[15, 55, 75, 150]\n"
     ]
    }
   ],
   "source": [
    "print([item for item in list1 if(item%5==0 and item <=150)])"
   ]
  },
  {
   "cell_type": "markdown",
   "id": "e62341eb",
   "metadata": {},
   "source": [
    "7. Pcik one of the questions above and use `while` loop for a different solution"
   ]
  },
  {
   "cell_type": "markdown",
   "id": "69689f6b",
   "metadata": {},
   "source": [
    "    4. Given a list iterate it and display numbers which are divisible by 5 and if you find number greater than 150 stop the loop iteration\n",
    "\n",
    "    list1 = [12, 15, 32, 42, 55, 75, 122, 132, 150, 180, 200]\n",
    "\n",
    "    Expected output:\n",
    "    15\n",
    "    55\n",
    "    75\n",
    "    150"
   ]
  },
  {
   "cell_type": "code",
   "execution_count": 11,
   "id": "aa5d538f",
   "metadata": {},
   "outputs": [
    {
     "name": "stdout",
     "output_type": "stream",
     "text": [
      "15\n",
      "55\n",
      "75\n",
      "150\n"
     ]
    }
   ],
   "source": [
    "list2 = [12, 15, 32, 42, 55, 75, 122, 132, 150, 180, 200]\n",
    "counter = 0\n",
    "list2\n",
    "while(counter <= len(list2)):\n",
    "    counter = counter+1\n",
    "    if(list2[counter]>150):\n",
    "        break\n",
    "    elif(list2[counter]%5==0):\n",
    "        print(list2[counter])    "
   ]
  }
 ],
 "metadata": {
  "kernelspec": {
   "display_name": "Python 3 (ipykernel)",
   "language": "python",
   "name": "python3"
  },
  "language_info": {
   "codemirror_mode": {
    "name": "ipython",
    "version": 3
   },
   "file_extension": ".py",
   "mimetype": "text/x-python",
   "name": "python",
   "nbconvert_exporter": "python",
   "pygments_lexer": "ipython3",
   "version": "3.9.7"
  }
 },
 "nbformat": 4,
 "nbformat_minor": 5
}
