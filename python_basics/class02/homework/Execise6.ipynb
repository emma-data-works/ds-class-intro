{
 "cells": [
  {
   "cell_type": "markdown",
   "id": "6e118188",
   "metadata": {},
   "source": [
    "### Here is a test/demo env for execise 6\n",
    "how to load module into notebook [ref](https://nocomplexity.com/documents/jupyterlab/tip-autoloadmodule.html)"
   ]
  },
  {
   "cell_type": "code",
   "execution_count": 17,
   "id": "72b09521",
   "metadata": {
    "scrolled": true
   },
   "outputs": [
    {
     "name": "stdout",
     "output_type": "stream",
     "text": [
      "The autoreload extension is already loaded. To reload it, use:\n",
      "  %reload_ext autoreload\n"
     ]
    }
   ],
   "source": [
    "#load all modules automatically\n",
    "%load_ext autoreload\n",
    "%autoreload 2"
   ]
  },
  {
   "cell_type": "code",
   "execution_count": 76,
   "id": "d9f548a1",
   "metadata": {},
   "outputs": [],
   "source": [
    "#import the python script file\n",
    "from execise_6_homework import *"
   ]
  },
  {
   "cell_type": "markdown",
   "id": "60baa12a",
   "metadata": {},
   "source": [
    "1. calclation function demo result"
   ]
  },
  {
   "cell_type": "code",
   "execution_count": 77,
   "id": "a51b0502",
   "metadata": {
    "scrolled": true
   },
   "outputs": [
    {
     "data": {
      "text/plain": [
       "(46, 0)"
      ]
     },
     "execution_count": 77,
     "metadata": {},
     "output_type": "execute_result"
    }
   ],
   "source": [
    "calculation(23,23)"
   ]
  },
  {
   "cell_type": "markdown",
   "id": "78779a1a",
   "metadata": {},
   "source": [
    "2. triangle_lambda function demo result"
   ]
  },
  {
   "cell_type": "code",
   "execution_count": 78,
   "id": "5c04c1ef",
   "metadata": {},
   "outputs": [
    {
     "name": "stdout",
     "output_type": "stream",
     "text": [
      "5831.0\n"
     ]
    }
   ],
   "source": [
    "from execise_6_homework import *\n",
    "x = triangle_lambda()\n",
    "print(x(343,34))"
   ]
  },
  {
   "cell_type": "markdown",
   "id": "e8f618bd",
   "metadata": {},
   "source": [
    "3. logic flow:\n",
    "    1. string split to collection with seperator defined\n",
    "    2. sort the collection\n",
    "    3. join collection item with seperator -"
   ]
  },
  {
   "cell_type": "markdown",
   "id": "0da6ee4d",
   "metadata": {},
   "source": [
    "3.sort_words function demo result"
   ]
  },
  {
   "cell_type": "code",
   "execution_count": 79,
   "id": "70ff5e6e",
   "metadata": {
    "scrolled": false
   },
   "outputs": [
    {
     "data": {
      "text/plain": [
       "'adfsare-bdsfaa-cafdasere-dfdfw'"
      ]
     },
     "execution_count": 79,
     "metadata": {},
     "output_type": "execute_result"
    }
   ],
   "source": [
    "sort_words('dfdfw-cafdasere-bdsfaa-adfsare')"
   ]
  },
  {
   "cell_type": "markdown",
   "id": "8729bd59",
   "metadata": {},
   "source": [
    "4. perfect_number function demo result"
   ]
  },
  {
   "cell_type": "code",
   "execution_count": 84,
   "id": "2785118c",
   "metadata": {},
   "outputs": [
    {
     "name": "stdout",
     "output_type": "stream",
     "text": [
      "True\n",
      "True\n",
      "False\n"
     ]
    }
   ],
   "source": [
    "print(perfect_number(6))\n",
    "print(perfect_number(496))\n",
    "print(perfect_number(43))"
   ]
  }
 ],
 "metadata": {
  "kernelspec": {
   "display_name": "Python 3 (ipykernel)",
   "language": "python",
   "name": "python3"
  },
  "language_info": {
   "codemirror_mode": {
    "name": "ipython",
    "version": 3
   },
   "file_extension": ".py",
   "mimetype": "text/x-python",
   "name": "python",
   "nbconvert_exporter": "python",
   "pygments_lexer": "ipython3",
   "version": "3.9.7"
  }
 },
 "nbformat": 4,
 "nbformat_minor": 5
}
