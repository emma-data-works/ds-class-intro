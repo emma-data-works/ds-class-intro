{
  "nbformat": 4,
  "nbformat_minor": 0,
  "metadata": {
    "colab": {
      "name": "Untitled5.ipynb",
      "provenance": []
    },
    "kernelspec": {
      "name": "python3",
      "display_name": "Python 3"
    },
    "language_info": {
      "name": "python"
    }
  },
  "cells": [
    {
      "cell_type": "markdown",
      "metadata": {
        "id": "8xpY3IYgaB8J"
      },
      "source": [
        "###Exercise 3."
      ]
    },
    {
      "cell_type": "markdown",
      "metadata": {
        "id": "6FCQ6tBpaJwp"
      },
      "source": [
        "1. Write a program flow which will assign grade by the test scores using the following conditions:"
      ]
    },
    {
      "cell_type": "code",
      "metadata": {
        "colab": {
          "base_uri": "https://localhost:8080/"
        },
        "id": "wX49pQJfaE2S",
        "outputId": "60b19ba5-2140-47d9-9708-48faab1e0bd6"
      },
      "source": [
        "grade = int(input('Please input the scores: '))\n",
        "\n",
        "if grade < 60:\n",
        "  grade = 'F'\n",
        "elif 60 <= grade < 70:\n",
        "  grade = 'D'\n",
        "elif 70 <= grade < 80:\n",
        "  grade = 'C'\n",
        "elif 80 <= grade < 90:\n",
        "  grade = 'B'\n",
        "else:\n",
        "  grade = 'A'\n",
        "\n",
        "print('The grade is:',grade) "
      ],
      "execution_count": null,
      "outputs": [
        {
          "output_type": "stream",
          "text": [
            "Please input the scores: 65\n",
            "The grade is: D\n"
          ],
          "name": "stdout"
        }
      ]
    },
    {
      "cell_type": "markdown",
      "metadata": {
        "id": "x8G8AOiKcxeR"
      },
      "source": [
        "2.x=1, y=1, write a flow to assign messge to different value base on different criteria as below, and in the end print out the message:"
      ]
    },
    {
      "cell_type": "code",
      "metadata": {
        "colab": {
          "base_uri": "https://localhost:8080/"
        },
        "id": "KMgoUUXLcwNv",
        "outputId": "b81963fd-792e-4ad2-8553-c1f8818b8757"
      },
      "source": [
        "x = 2\n",
        "y = 1\n",
        "\n",
        "if x < y:\n",
        "  print(\"x is less than y\")\n",
        "elif x > y:\n",
        "  print(\"x is greater than y\")\n",
        "else:\n",
        "  print(\"x is the same as y\")\n"
      ],
      "execution_count": null,
      "outputs": [
        {
          "output_type": "stream",
          "text": [
            "x is greater than y\n"
          ],
          "name": "stdout"
        }
      ]
    }
  ]
}