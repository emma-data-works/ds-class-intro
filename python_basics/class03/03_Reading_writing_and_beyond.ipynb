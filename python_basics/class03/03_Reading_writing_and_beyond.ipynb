{
 "cells": [
  {
   "cell_type": "markdown",
   "metadata": {},
   "source": [
    "# Intro to Python3 - Class03\n",
    "\n",
    "### Class agenda:\n",
    "##### 7. Reading and writing files\n",
    "\n",
    "##### Before we start new class, a few tips/resouces:\n",
    "* I re-wrote the [Git setup and homework submission instructions](https://github.com/emma-oc/ds-class-intro/blob/master/Git-setup-and-hw-instruction.md#instructions-for-homework-1-submission), check it out if you are not clear.\n",
    "* `.gitignore` to hide things you don't want\n",
    "* It might be a good time to [explore IDEs or choose your favorite text editor](https://realpython.com/python-ides-code-editors-guide/) as it will make your time slightly easier.\n",
    "\n",
    "## 7. Reading and writing files\n",
    "So far we only used `print` function to get the information from your code. But we will need to actually interact with your python program most of the time, e.g. passing arguemnts and inputs, or getting the results. This section we will learn how to \"talk to\" your python program.\n",
    "\n",
    "### 7.1 Reading input from command line\n",
    "Why do we want to do this, you may ask. It's important to understand the code is only useful when it's flexible and reusable. Which means, we would like the program to solve generalized problem, rather than one specific one. "
   ]
  },
  {
   "cell_type": "code",
   "execution_count": 22,
   "metadata": {},
   "outputs": [],
   "source": [
    "def print_text1():\n",
    "    text = 'Data Science'\n",
    "    print(text)\n",
    "\n",
    "def print_text2(text):\n",
    "    print(text)"
   ]
  },
  {
   "cell_type": "code",
   "execution_count": 5,
   "metadata": {},
   "outputs": [
    {
     "name": "stdout",
     "output_type": "stream",
     "text": [
      "Data Science\n",
      "Machine Learning\n"
     ]
    }
   ],
   "source": [
    "print_text1()\n",
    "print_text2('Machine Learning')"
   ]
  },
  {
   "cell_type": "markdown",
   "metadata": {},
   "source": [
    "The simple example above is an example of hardcoding - when given a new input, you'll have to modify the function to get the desired results. \n",
    "\n",
    "We have learned to use function to parameterize our program, now we just need to find a way to pass this information into the program. `input()` function is useful for this purpose. `input()` function pauses code execution to wait for user to type in any keystrokes and capture such keyboard input before pressing `enter` as a `string`."
   ]
  },
  {
   "cell_type": "code",
   "execution_count": 149,
   "metadata": {},
   "outputs": [
    {
     "name": "stdout",
     "output_type": "stream",
     "text": [
      "Enter your name: emma\n"
     ]
    },
    {
     "data": {
      "text/plain": [
       "'emma'"
      ]
     },
     "execution_count": 149,
     "metadata": {},
     "output_type": "execute_result"
    }
   ],
   "source": [
    "input('Enter your name: ') # takes a prompt if you specify one"
   ]
  },
  {
   "cell_type": "code",
   "execution_count": 150,
   "metadata": {},
   "outputs": [
    {
     "name": "stdout",
     "output_type": "stream",
     "text": [
      "Enter your name: emma2\n",
      "emma2\n"
     ]
    }
   ],
   "source": [
    "name = input('Enter your name: ')\n",
    "print(name)"
   ]
  },
  {
   "cell_type": "markdown",
   "metadata": {},
   "source": [
    "Another useful input function is `getpass()`, this is usually used to prompt user for a password. This function will not echo anything to output."
   ]
  },
  {
   "cell_type": "code",
   "execution_count": 10,
   "metadata": {},
   "outputs": [
    {
     "name": "stdout",
     "output_type": "stream",
     "text": [
      "Enter your name:········\n"
     ]
    }
   ],
   "source": [
    "from getpass import getpass\n",
    "\n",
    "name = getpass('Enter your name:')  # protects your pw"
   ]
  },
  {
   "cell_type": "markdown",
   "metadata": {},
   "source": [
    "#### Converting input\n",
    "`input()` function always returns a string, so it's our job to convert the input to correct data type. For simple and literal conversions, python usually can infer pretty well by coercing. "
   ]
  },
  {
   "cell_type": "code",
   "execution_count": 154,
   "metadata": {},
   "outputs": [
    {
     "name": "stdout",
     "output_type": "stream",
     "text": [
      "How many hours did you spend on homeworks 1? 2\n",
      "2\n"
     ]
    },
    {
     "ename": "TypeError",
     "evalue": "unsupported operand type(s) for /: 'str' and 'int'",
     "output_type": "error",
     "traceback": [
      "\u001b[0;31m---------------------------------------------------------------------------\u001b[0m",
      "\u001b[0;31mTypeError\u001b[0m                                 Traceback (most recent call last)",
      "\u001b[0;32m<ipython-input-154-816339251333>\u001b[0m in \u001b[0;36m<module>\u001b[0;34m\u001b[0m\n\u001b[1;32m      1\u001b[0m \u001b[0mhours\u001b[0m \u001b[0;34m=\u001b[0m \u001b[0minput\u001b[0m\u001b[0;34m(\u001b[0m\u001b[0;34m'How many hours did you spend on homeworks 1? '\u001b[0m\u001b[0;34m)\u001b[0m\u001b[0;34m\u001b[0m\u001b[0m\n\u001b[1;32m      2\u001b[0m \u001b[0mprint\u001b[0m\u001b[0;34m(\u001b[0m\u001b[0mhours\u001b[0m\u001b[0;34m)\u001b[0m\u001b[0;34m\u001b[0m\u001b[0m\n\u001b[0;32m----> 3\u001b[0;31m \u001b[0mprint\u001b[0m\u001b[0;34m(\u001b[0m\u001b[0mhours\u001b[0m\u001b[0;34m/\u001b[0m\u001b[0;36m2\u001b[0m\u001b[0;34m)\u001b[0m\u001b[0;34m\u001b[0m\u001b[0m\n\u001b[0m",
      "\u001b[0;31mTypeError\u001b[0m: unsupported operand type(s) for /: 'str' and 'int'"
     ]
    }
   ],
   "source": [
    "hours = input('How many hours did you spend on homeworks 1? ')\n",
    "print(hours)\n",
    "print(hours/2)"
   ]
  },
  {
   "cell_type": "code",
   "execution_count": 158,
   "metadata": {},
   "outputs": [
    {
     "name": "stdout",
     "output_type": "stream",
     "text": [
      "How many hours did you spend on homeworks 1? 2\n",
      "2\n",
      "<class 'int'>\n",
      "1.0\n"
     ]
    }
   ],
   "source": [
    "hours = input('How many hours did you spend on homeworks 1? ')  # enter 4, 4.0, 4,000\n",
    "print(hours)\n",
    "hours_int = int(hours)\n",
    "# eval \n",
    "print(hours_int/2) "
   ]
  },
  {
   "cell_type": "code",
   "execution_count": 21,
   "metadata": {},
   "outputs": [
    {
     "data": {
      "text/plain": [
       "4000"
      ]
     },
     "execution_count": 21,
     "metadata": {},
     "output_type": "execute_result"
    }
   ],
   "source": [
    "# now you can use what we have learned\n",
    "int('$4,000'.replace(',','').replace('$',''))"
   ]
  },
  {
   "cell_type": "markdown",
   "metadata": {},
   "source": [
    "There are several levels of dynamic change for variables. There are two types of hardcoding: you either have an actual constanct, for example, `12`, or you have variables that don't change frequently for you problem setting. For example, if you are calculating annual income and want to define number of months in a year, the `12` is not likely to change. Contrary to these static variables, configuration values and actual inputs usually change a lot depending on the problem, and these are usually captured through input or reading some files.\n",
    "\n",
    "It's important to have these concepts in mind while you are writing your code. Do you want to change some of the variables or hold them constant? Which parameters would you like to give? How much flexibility are you getting?"
   ]
  },
  {
   "cell_type": "code",
   "execution_count": 24,
   "metadata": {},
   "outputs": [
    {
     "name": "stdout",
     "output_type": "stream",
     "text": [
      "50.24\n",
      "50.24\n",
      "enter radius: 4\n",
      "enter pi: 3.14\n",
      "50.24\n"
     ]
    }
   ],
   "source": [
    "# these essentially are the same computation\n",
    "# but you can get different levels of control here\n",
    "print(3.14 * 4 ** 2)\n",
    "\n",
    "radius = 4\n",
    "pi = 3.14\n",
    "print(pi * radius ** 2)\n",
    "\n",
    "def circle_area(radius, pi):\n",
    "    area = pi * radius ** 2\n",
    "    return area\n",
    "\n",
    "radius = input('enter radius: ')\n",
    "pi = input('enter pi: ')\n",
    "print(circle_area(radius=4, pi=3.14))"
   ]
  },
  {
   "cell_type": "markdown",
   "metadata": {},
   "source": [
    "### 7.2 Reading and writing basic text fiels\n",
    "`input()` might be good for short inputs, for bigger input and output, we will learn to use `file` to create \"hardcopy\" of data. `file` is a built-in type in python, and [you can read more about it here](https://docs.python.org/3/tutorial/inputoutput.html#reading-and-writing-files). To create a file, you can use the follwoing syntax:\n",
    "\n",
    "``` file = open(file_name [, mode])```\n",
    "\n",
    "The argument in `[]` is optional, meaning you don't have to provide one.\n",
    "    - `file_name`: name of the file to open, string, could be old or new\n",
    "    - `mode`: `r/w/a`, followed by `b` if file is binary\n",
    "You can use one of more advanced specification to do multiple things:\n",
    "```\n",
    "|          Mode          |  r   |  r+  |  w   |  w+  |  a   |  a+  |\n",
    "| :--------------------: | :--: | :--: | :--: | :--: | :--: | :--: |\n",
    "|          Read          |  +   |  +   |      |  +   |      |  +   |\n",
    "|         Write          |      |  +   |  +   |  +   |  +   |  +   |\n",
    "|         Create         |      |      |  +   |  +   |  +   |  +   |\n",
    "|         Cover          |      |      |  +   |  +   |      |      |\n",
    "| Point in the beginning |  +   |  +   |  +   |  +   |      |      |\n",
    "|    Point in the end    |      |      |      |      |  +   |  +   |\n",
    "```"
   ]
  },
  {
   "cell_type": "code",
   "execution_count": 159,
   "metadata": {},
   "outputs": [
    {
     "ename": "UnsupportedOperation",
     "evalue": "not readable",
     "output_type": "error",
     "traceback": [
      "\u001b[0;31m---------------------------------------------------------------------------\u001b[0m",
      "\u001b[0;31mUnsupportedOperation\u001b[0m                      Traceback (most recent call last)",
      "\u001b[0;32m<ipython-input-159-0ef0a2526fc5>\u001b[0m in \u001b[0;36m<module>\u001b[0;34m\u001b[0m\n\u001b[1;32m      1\u001b[0m \u001b[0;31m# let's create an empty file\u001b[0m\u001b[0;34m\u001b[0m\u001b[0;34m\u001b[0m\u001b[0m\n\u001b[1;32m      2\u001b[0m \u001b[0mfile\u001b[0m \u001b[0;34m=\u001b[0m \u001b[0mopen\u001b[0m\u001b[0;34m(\u001b[0m\u001b[0;34m'class03.txt'\u001b[0m\u001b[0;34m,\u001b[0m \u001b[0;34m'w'\u001b[0m\u001b[0;34m)\u001b[0m\u001b[0;34m\u001b[0m\u001b[0m\n\u001b[0;32m----> 3\u001b[0;31m \u001b[0mfile\u001b[0m\u001b[0;34m.\u001b[0m\u001b[0mread\u001b[0m\u001b[0;34m(\u001b[0m\u001b[0;34m)\u001b[0m\u001b[0;34m\u001b[0m\u001b[0m\n\u001b[0m",
      "\u001b[0;31mUnsupportedOperation\u001b[0m: not readable"
     ]
    }
   ],
   "source": [
    "# let's create an empty file\n",
    "file = open('class03.txt', 'w')\n",
    "file.read()"
   ]
  },
  {
   "cell_type": "code",
   "execution_count": 160,
   "metadata": {},
   "outputs": [
    {
     "data": {
      "text/plain": [
       "''"
      ]
     },
     "execution_count": 160,
     "metadata": {},
     "output_type": "execute_result"
    }
   ],
   "source": [
    "file = open('class03.txt', 'w+')\n",
    "file.read() "
   ]
  },
  {
   "cell_type": "code",
   "execution_count": 163,
   "metadata": {},
   "outputs": [
    {
     "data": {
      "text/plain": [
       "'/Users/yue/Desktop/OneCareer/ds-intro-class/class03'"
      ]
     },
     "execution_count": 163,
     "metadata": {},
     "output_type": "execute_result"
    }
   ],
   "source": [
    "pwd()"
   ]
  },
  {
   "cell_type": "code",
   "execution_count": 162,
   "metadata": {},
   "outputs": [
    {
     "data": {
      "text/plain": [
       "''"
      ]
     },
     "execution_count": 162,
     "metadata": {},
     "output_type": "execute_result"
    }
   ],
   "source": [
    "file = open('class03.txt', 'r+')\n",
    "file.read()"
   ]
  },
  {
   "cell_type": "markdown",
   "metadata": {},
   "source": [
    "With a created file, you can use many methods on it to read or write. For example:\n",
    "- `file.read()`: read entire file or read until size if specified\n",
    "- `file.readline()`: read a single line until next new line character. `files.readlines()` give you multiple lines\n",
    "- `file.write()`: write to file\n",
    "- `file.close()`: close the file when you are done"
   ]
  },
  {
   "cell_type": "code",
   "execution_count": 164,
   "metadata": {},
   "outputs": [],
   "source": [
    "file = open('class03.txt', 'w')\n",
    "file.write('We are learning how to interact with file!\\nCan we see this?')\n",
    "file.close()"
   ]
  },
  {
   "cell_type": "code",
   "execution_count": 165,
   "metadata": {},
   "outputs": [
    {
     "name": "stdout",
     "output_type": "stream",
     "text": [
      "We are learning how to interact with file!\n",
      "Can we see this?\n"
     ]
    }
   ],
   "source": [
    "file = open('class03.txt', 'r')\n",
    "print(file.read())\n",
    "file.close()"
   ]
  },
  {
   "cell_type": "code",
   "execution_count": 170,
   "metadata": {},
   "outputs": [
    {
     "name": "stdout",
     "output_type": "stream",
     "text": [
      "We are learning how to interact with file!\n",
      "\n",
      "Can we see this?\n",
      "\n"
     ]
    }
   ],
   "source": [
    "file = open('class03.txt', 'r')\n",
    "print(file.readline())\n",
    "file.close()"
   ]
  },
  {
   "cell_type": "code",
   "execution_count": 167,
   "metadata": {},
   "outputs": [],
   "source": [
    "file = open('class03.txt', 'a')\n",
    "file.write('\\nAdding more stuff')\n",
    "file.close()"
   ]
  },
  {
   "cell_type": "code",
   "execution_count": 168,
   "metadata": {},
   "outputs": [
    {
     "name": "stdout",
     "output_type": "stream",
     "text": [
      "We are learning how to interact with file!\n",
      "Can we see this?\n",
      "Adding more stuff\n"
     ]
    }
   ],
   "source": [
    "file = open('class03.txt', 'r')\n",
    "print(file.read())\n",
    "file.close()"
   ]
  },
  {
   "cell_type": "markdown",
   "metadata": {},
   "source": [
    "There is an easier way if you want to make sure you don't forget to close the file, which is the `with` statement. It will automatically close the file once file is finished."
   ]
  },
  {
   "cell_type": "code",
   "execution_count": 169,
   "metadata": {},
   "outputs": [
    {
     "name": "stdout",
     "output_type": "stream",
     "text": [
      "['We are learning how to interact with file!\\n', 'Can we see this?\\n', 'Adding more stuff']\n"
     ]
    }
   ],
   "source": [
    "with open('class03.txt', 'r') as file:\n",
    "    print(file.readlines())"
   ]
  },
  {
   "cell_type": "markdown",
   "metadata": {},
   "source": [
    "### 7.3 Files as iterables\n",
    "A file is an iterable, like other collections we have learned. This means we can iterate through it using `for` loops."
   ]
  },
  {
   "cell_type": "code",
   "execution_count": 171,
   "metadata": {},
   "outputs": [
    {
     "name": "stdout",
     "output_type": "stream",
     "text": [
      "We are learning how to interact with file\n",
      "Can we see this\n",
      "Adding more stuff\n",
      "\n",
      "File contains 3 lines.\n"
     ]
    }
   ],
   "source": [
    "num_lines = 0 \n",
    "with open('class03.txt', 'r') as file:\n",
    "    for line in file:\n",
    "#     lines = file.readlines()\n",
    "#     for line in lines:\n",
    "        num_lines += 1\n",
    "        line = line.rstrip()\n",
    "        if line.endswith(('!', '?')):\n",
    "            print(line.replace('!','').replace('?',''))\n",
    "        else:\n",
    "            print(line)\n",
    "print('\\nFile contains {} lines.'.format(num_lines))"
   ]
  },
  {
   "cell_type": "code",
   "execution_count": 177,
   "metadata": {},
   "outputs": [
    {
     "name": "stdout",
     "output_type": "stream",
     "text": [
      "We are learning how to interact with file\n",
      "Can we see this\n",
      "Adding more stuff\n",
      "3 input lines\n",
      "2 lines end with ! or ?\n",
      "3 lines printed\n"
     ]
    }
   ],
   "source": [
    "from collections import Counter\n",
    "\n",
    "counts = Counter()\n",
    "with open('class03.txt', 'r') as file:\n",
    "    for line in file:\n",
    "        line = line.rstrip()\n",
    "        counts['input'] += 1\n",
    "        if line.endswith(('!', '?')):\n",
    "            counts['end'] += 1\n",
    "            print(line.replace('!','').replace('?',''))\n",
    "        else:\n",
    "            print(line)\n",
    "        counts['print'] += 1\n",
    "        \n",
    "print('{input} input lines'.format_map(counts))\n",
    "print('{end} lines end with ! or ?'.format_map(counts))\n",
    "print('{print} lines printed'.format_map(counts)) "
   ]
  },
  {
   "cell_type": "code",
   "execution_count": 179,
   "metadata": {},
   "outputs": [],
   "source": [
    "string = '{input} input lines'"
   ]
  },
  {
   "cell_type": "code",
   "execution_count": 180,
   "metadata": {},
   "outputs": [
    {
     "data": {
      "text/plain": [
       "'3 input lines'"
      ]
     },
     "execution_count": 180,
     "metadata": {},
     "output_type": "execute_result"
    }
   ],
   "source": [
    "string.format_map(counts) "
   ]
  },
  {
   "cell_type": "code",
   "execution_count": 181,
   "metadata": {},
   "outputs": [
    {
     "data": {
      "text/plain": [
       "'3 input lines'"
      ]
     },
     "execution_count": 181,
     "metadata": {},
     "output_type": "execute_result"
    }
   ],
   "source": [
    "string.format(**counts) "
   ]
  },
  {
   "cell_type": "markdown",
   "metadata": {},
   "source": [
    "`Counter` object can keep counts or sum for keys like `'input'` above, it's basically a dictionary with keys and integer value pairs. Here we used this object to store the counts.\n",
    "\n",
    "`str.format_map()` is a tidy way to map keys to values in a dictionary. It's the same as `str.format(**counts)`.\n",
    "\n",
    "If you don't wnat to use a `Counter`, you might use three variables to store the counts. Notice [what `vars()` means](https://docs.python.org/3/library/functions.html#vars) here."
   ]
  },
  {
   "cell_type": "code",
   "execution_count": 76,
   "metadata": {},
   "outputs": [
    {
     "name": "stdout",
     "output_type": "stream",
     "text": [
      "We are learning how to interact with file\n",
      "Can we see this\n",
      "Adding more stuff\n",
      "3 input lines\n",
      "2 lines end with ! or ?\n",
      "3 lines printed\n"
     ]
    }
   ],
   "source": [
    "input_num = end_num = print_num = 0\n",
    "\n",
    "with open('class03.txt', 'r') as file:\n",
    "    for line in file:\n",
    "        line = line.rstrip()\n",
    "        input_num += 1\n",
    "        if line.endswith(('!', '?')):\n",
    "            end_num += 1\n",
    "            print(line.replace('!','').replace('?',''))\n",
    "        else:\n",
    "            print(line)\n",
    "        print_num += 1\n",
    "        \n",
    "print('{input_num} input lines'.format_map(vars()))\n",
    "print('{end_num} lines end with ! or ?'.format_map(vars()))\n",
    "print('{print_num} lines printed'.format_map(vars()))"
   ]
  },
  {
   "cell_type": "code",
   "execution_count": 183,
   "metadata": {},
   "outputs": [
    {
     "data": {
      "text/plain": [
       "3"
      ]
     },
     "execution_count": 183,
     "metadata": {},
     "output_type": "execute_result"
    }
   ],
   "source": [
    "# can you guess what this is?\n",
    "vars()['input_num']"
   ]
  },
  {
   "cell_type": "markdown",
   "metadata": {},
   "source": [
    "### 7.4 Working with paths\n",
    "So far the file name look like string, but it actually has more meaning. A file name is connected to a collection of bytes on the system, which has size, permissions, modification time, etc. We often refer to it as a path, and based on structural hierarchy, there may be parents and childerns. Also, make sure you know [what relative path and absolute path are](https://courses.cs.washington.edu/courses/cse140/13wi/file-interaction.html) and how they are different.\n",
    "\n",
    "[`os.path` module is used a lot for functions](https://docs.python.org/2/library/os.path.html#module-os.path) to interact with operating system, you'll probably find a lot of useful functions if you need to work with paths. "
   ]
  },
  {
   "cell_type": "code",
   "execution_count": 184,
   "metadata": {},
   "outputs": [],
   "source": [
    "import os"
   ]
  },
  {
   "cell_type": "code",
   "execution_count": 185,
   "metadata": {},
   "outputs": [
    {
     "data": {
      "text/plain": [
       "'/Users/yue/Desktop/OneCareer/ds-intro-class/class03'"
      ]
     },
     "execution_count": 185,
     "metadata": {},
     "output_type": "execute_result"
    }
   ],
   "source": [
    "os.getcwd()"
   ]
  },
  {
   "cell_type": "code",
   "execution_count": 186,
   "metadata": {},
   "outputs": [
    {
     "data": {
      "text/plain": [
       "['exercise_7.py',\n",
       " 'AMZN.csv',\n",
       " 'some.json',\n",
       " 'class03.txt',\n",
       " '.ipynb_checkpoints',\n",
       " '03_Reading_writing_and_beyond.ipynb',\n",
       " 'another.csv']"
      ]
     },
     "execution_count": 186,
     "metadata": {},
     "output_type": "execute_result"
    }
   ],
   "source": [
    "os.listdir()"
   ]
  },
  {
   "cell_type": "code",
   "execution_count": 187,
   "metadata": {},
   "outputs": [
    {
     "data": {
      "text/plain": [
       "'/Users/yue/Desktop/OneCareer/ds-intro-class/class03/class03.txt'"
      ]
     },
     "execution_count": 187,
     "metadata": {},
     "output_type": "execute_result"
    }
   ],
   "source": [
    "os.path.abspath('class03.txt')"
   ]
  },
  {
   "cell_type": "code",
   "execution_count": 189,
   "metadata": {},
   "outputs": [
    {
     "data": {
      "text/plain": [
       "'class03.txt'"
      ]
     },
     "execution_count": 189,
     "metadata": {},
     "output_type": "execute_result"
    }
   ],
   "source": [
    "os.path.relpath('/Users/yue/Desktop/OneCareer/ds-intro-class/class03/class03.txt', os.getcwd())\n",
    "#                 '/Users/yue/Desktop/OneCareer/')"
   ]
  },
  {
   "cell_type": "code",
   "execution_count": 190,
   "metadata": {},
   "outputs": [
    {
     "data": {
      "text/plain": [
       "['/Users/yue/Desktop/OneCareer/ds-intro-class/class03/exercise_7.py',\n",
       " '/Users/yue/Desktop/OneCareer/ds-intro-class/class03/AMZN.csv',\n",
       " '/Users/yue/Desktop/OneCareer/ds-intro-class/class03/some.json',\n",
       " '/Users/yue/Desktop/OneCareer/ds-intro-class/class03/class03.txt',\n",
       " '/Users/yue/Desktop/OneCareer/ds-intro-class/class03/.ipynb_checkpoints',\n",
       " '/Users/yue/Desktop/OneCareer/ds-intro-class/class03/03_Reading_writing_and_beyond.ipynb',\n",
       " '/Users/yue/Desktop/OneCareer/ds-intro-class/class03/another.csv']"
      ]
     },
     "execution_count": 190,
     "metadata": {},
     "output_type": "execute_result"
    }
   ],
   "source": [
    "# what is this doing?\n",
    "# list comprehension\n",
    "[os.path.join(os.getcwd(), p) for p in os.listdir()]"
   ]
  },
  {
   "cell_type": "code",
   "execution_count": 191,
   "metadata": {},
   "outputs": [
    {
     "data": {
      "text/plain": [
       "True"
      ]
     },
     "execution_count": 191,
     "metadata": {},
     "output_type": "execute_result"
    }
   ],
   "source": [
    "os.path.isdir('/Users/yue/Desktop/OneCareer/ds-intro-class/class03')"
   ]
  },
  {
   "cell_type": "code",
   "execution_count": 192,
   "metadata": {},
   "outputs": [
    {
     "data": {
      "text/plain": [
       "False"
      ]
     },
     "execution_count": 192,
     "metadata": {},
     "output_type": "execute_result"
    }
   ],
   "source": [
    "os.path.isfile('/Users/yue/Desktop/OneCareer/ds-intro-class/class03')"
   ]
  },
  {
   "cell_type": "markdown",
   "metadata": {},
   "source": [
    "[`pathlib` module in python is also helpful](https://docs.python.org/3/library/pathlib.html), with some object-oriented flavor. We'll demo a few usages here."
   ]
  },
  {
   "cell_type": "code",
   "execution_count": 193,
   "metadata": {},
   "outputs": [],
   "source": [
    "from pathlib import Path"
   ]
  },
  {
   "cell_type": "code",
   "execution_count": 194,
   "metadata": {},
   "outputs": [
    {
     "data": {
      "text/plain": [
       "[PosixPath('../class01'),\n",
       " PosixPath('../class03'),\n",
       " PosixPath('../class04'),\n",
       " PosixPath('../class05'),\n",
       " PosixPath('../class02'),\n",
       " PosixPath('../.ipynb_checkpoints'),\n",
       " PosixPath('../.git')]"
      ]
     },
     "execution_count": 194,
     "metadata": {},
     "output_type": "execute_result"
    }
   ],
   "source": [
    "p = Path('..')\n",
    "[x for x in p.iterdir() if x.is_dir()]"
   ]
  },
  {
   "cell_type": "code",
   "execution_count": 195,
   "metadata": {},
   "outputs": [
    {
     "name": "stdout",
     "output_type": "stream",
     "text": [
      "class03.txt\n",
      "class03\n",
      ".txt\n",
      ".\n",
      "os.stat_result(st_mode=33188, st_ino=14319441, st_dev=16777223, st_nlink=1, st_uid=501, st_gid=20, st_size=77, st_atime=1588212599, st_mtime=1588212599, st_ctime=1588212599)\n"
     ]
    }
   ],
   "source": [
    "class03 = Path('class03.txt')\n",
    "print(class03.name)\n",
    "print(class03.stem)\n",
    "print(class03.suffix)\n",
    "print(class03.parent)\n",
    "print(class03.stat())"
   ]
  },
  {
   "cell_type": "code",
   "execution_count": 102,
   "metadata": {},
   "outputs": [
    {
     "data": {
      "text/plain": [
       "PosixPath('/Users/yue/Desktop/OneCareer/ds-intro-class/class03/03_Reading_writing.ipynb')"
      ]
     },
     "execution_count": 102,
     "metadata": {},
     "output_type": "execute_result"
    }
   ],
   "source": [
    "nb = Path('.') / '03_Reading_writing.ipynb' # shorthand for appending\n",
    "nb.resolve()"
   ]
  },
  {
   "cell_type": "code",
   "execution_count": 103,
   "metadata": {},
   "outputs": [
    {
     "name": "stdout",
     "output_type": "stream",
     "text": [
      "We are learning how to interact with file!\n",
      "Can we see this?\n",
      "Adding more stuff\n"
     ]
    }
   ],
   "source": [
    "# this is super convenient\n",
    "with class03.open('r') as file:\n",
    "    print(file.read())"
   ]
  },
  {
   "cell_type": "markdown",
   "metadata": {},
   "source": [
    "### 7.5 Handling CSV Files\n",
    "CSV file is commonly used and we can use built-in `csv` module. We will learn to do this with `pandas` later as well."
   ]
  },
  {
   "cell_type": "code",
   "execution_count": 104,
   "metadata": {},
   "outputs": [],
   "source": [
    "import csv"
   ]
  },
  {
   "cell_type": "markdown",
   "metadata": {},
   "source": [
    "#### Read csv files"
   ]
  },
  {
   "cell_type": "code",
   "execution_count": 196,
   "metadata": {},
   "outputs": [
    {
     "name": "stdout",
     "output_type": "stream",
     "text": [
      "['Date', 'Open', 'High', 'Low', 'Close', 'Adj Close', 'Volume']\n",
      "['2020-04-01', '1932.969971', '1944.959961', '1893.000000', '1907.699951', '1907.699951', '4121900']\n",
      "['2020-04-02', '1901.640015', '1927.530029', '1890.000000', '1918.829956', '1918.829956', '4336000']\n",
      "['2020-04-03', '1911.150024', '1926.329956', '1889.150024', '1906.589966', '1906.589966', '3609900']\n",
      "['2020-04-06', '1936.000000', '1998.520020', '1930.020020', '1997.589966', '1997.589966', '5773200']\n",
      "['2020-04-07', '2017.109985', '2035.719971', '1997.619995', '2011.599976', '2011.599976', '5114000']\n",
      "['2020-04-08', '2021.000000', '2044.000000', '2011.150024', '2043.000000', '2043.000000', '3977300']\n",
      "['2020-04-09', '2044.300049', '2053.000000', '2017.660034', '2042.760010', '2042.760010', '4655600']\n",
      "['2020-04-13', '2040.000000', '2180.000000', '2038.000000', '2168.870117', '2168.870117', '6716700']\n",
      "['2020-04-14', '2200.469971', '2292.000000', '2186.209961', '2283.320068', '2283.320068', '8087200']\n",
      "['2020-04-15', '2257.679932', '2333.370117', '2245.000000', '2307.679932', '2307.679932', '6866600']\n",
      "['2020-04-16', '2346.000000', '2461.000000', '2335.000000', '2408.189941', '2408.189941', '12038200']\n",
      "['2020-04-17', '2372.330078', '2400.000000', '2316.020020', '2375.000000', '2375.000000', '7930000']\n",
      "['2020-04-20', '2389.949951', '2444.979980', '2386.050049', '2393.610107', '2393.610107', '5770700']\n"
     ]
    }
   ],
   "source": [
    "amzn_data = []\n",
    "with open('AMZN.csv', 'r') as f:\n",
    "    reader = csv.reader(f, delimiter=',')  # change delimiter\n",
    "    for row in reader:\n",
    "        amzn_data.append(row)\n",
    "        print(row)"
   ]
  },
  {
   "cell_type": "code",
   "execution_count": 108,
   "metadata": {},
   "outputs": [
    {
     "name": "stdout",
     "output_type": "stream",
     "text": [
      "2020-04-01 1932.969971\n",
      "2020-04-02 1901.640015\n",
      "2020-04-03 1911.150024\n",
      "2020-04-06 1936.000000\n",
      "2020-04-07 2017.109985\n",
      "2020-04-08 2021.000000\n",
      "2020-04-09 2044.300049\n",
      "2020-04-13 2040.000000\n",
      "2020-04-14 2200.469971\n",
      "2020-04-15 2257.679932\n",
      "2020-04-16 2346.000000\n",
      "2020-04-17 2372.330078\n",
      "2020-04-20 2389.949951\n"
     ]
    }
   ],
   "source": [
    "# read file with header\n",
    "with open('AMZN.csv', 'r') as f:\n",
    "    reader = csv.DictReader(f)\n",
    "    for row in reader:\n",
    "        print(row['Date'], row['Open'])"
   ]
  },
  {
   "cell_type": "markdown",
   "metadata": {},
   "source": [
    "#### Write csv files\n",
    "You data might be organized in different ways, for example:\n",
    "- Data is organized by column: we have one dictionary for each column like `{col1: value1, col2:value2, ...}`. \n",
    "- Data is organized by row: we have one list/tuple for each row like `[value1, value2, ...]`, column names may or may not apply\n",
    "\n",
    "`csv.writer()` writes by row, so if you have data organized by column, you'll need to manipulate the data to one list/tuple per row with values."
   ]
  },
  {
   "cell_type": "code",
   "execution_count": 112,
   "metadata": {},
   "outputs": [],
   "source": [
    "with open('another.csv', 'w', newline='') as f:\n",
    "    writer = csv.writer(f)\n",
    "    for row in amzn_data:\n",
    "        writer.writerow(row)"
   ]
  },
  {
   "cell_type": "markdown",
   "metadata": {},
   "source": [
    "The `newline=''` here is to ensure the module writes the line ends in a more universal way.\n",
    "\n",
    "```\n",
    "If newline='' is not specified, newlines embedded inside quoted fields will not be interpreted correctly, and on platforms that use \\r\\n linendings on write an extra \\r will be added. It should always be safe to specify newline='', since the csv module does its own (universal) newline handling.\n",
    "```\n",
    "\n",
    "To write columns to csv, you can use some tricks using `zip` we learned before. Try to see if you can understand what the following code is doing.\n"
   ]
  },
  {
   "cell_type": "code",
   "execution_count": 118,
   "metadata": {},
   "outputs": [
    {
     "name": "stdout",
     "output_type": "stream",
     "text": [
      "[('a', 1, 5, 9), ('b', 2, 6, 10), ('c', 3, 7, 11), ('d', 4, 8, 12)]\n"
     ]
    }
   ],
   "source": [
    "cols = [('a','b','c','d'), (1,2,3,4), (5,6,7,8), (9,10,11,12)]\n",
    "print([r for r in zip(*cols)])"
   ]
  },
  {
   "cell_type": "markdown",
   "metadata": {},
   "source": [
    "##### Tips on writing csv file\n",
    "- use `newline=''` to make the file work on any OS\n",
    "- use default [dialect](https://docs.python.org/3/library/csv.html#csv-fmt-params) for commas and quotes to make sure things are properly fomatted and escapted.\n",
    "- highly recommend include a header row when writing your csv file."
   ]
  },
  {
   "cell_type": "markdown",
   "metadata": {},
   "source": [
    "### 7.6 JSON files\n",
    "Python also has a `json` module is you are dealing with JSON-encoded object. It can load and dump a python object in JSON notation. This is very handy for web data."
   ]
  },
  {
   "cell_type": "code",
   "execution_count": 197,
   "metadata": {},
   "outputs": [],
   "source": [
    "import json"
   ]
  },
  {
   "cell_type": "code",
   "execution_count": 198,
   "metadata": {},
   "outputs": [
    {
     "name": "stdout",
     "output_type": "stream",
     "text": [
      "[{'name': 'emma', 'skill': {'coding1': 'python', 'coding2': 'r'}, 'role': 12345}]\n"
     ]
    }
   ],
   "source": [
    "with open('some.json') as f:\n",
    "    js = json.load(f)\n",
    "print(js)"
   ]
  },
  {
   "cell_type": "code",
   "execution_count": 199,
   "metadata": {},
   "outputs": [],
   "source": [
    "import urllib"
   ]
  },
  {
   "cell_type": "code",
   "execution_count": 200,
   "metadata": {},
   "outputs": [],
   "source": [
    "url = 'http://maps.googleapis.com/maps/api/geocode/json?address=googleplex&sensor=false'\n",
    "response = urllib.request.urlopen(url).read()\n",
    "response = json.loads(response.decode(\"utf-8\", errors='ignore'))"
   ]
  },
  {
   "cell_type": "code",
   "execution_count": 201,
   "metadata": {},
   "outputs": [
    {
     "data": {
      "text/plain": [
       "{'error_message': 'You must use an API key to authenticate each request to Google Maps Platform APIs. For additional information, please refer to http://g.co/dev/maps-no-account',\n",
       " 'results': [],\n",
       " 'status': 'REQUEST_DENIED'}"
      ]
     },
     "execution_count": 201,
     "metadata": {},
     "output_type": "execute_result"
    }
   ],
   "source": [
    "response "
   ]
  },
  {
   "cell_type": "code",
   "execution_count": 203,
   "metadata": {},
   "outputs": [
    {
     "data": {
      "text/plain": [
       "'REQUEST_DENIED'"
      ]
     },
     "execution_count": 203,
     "metadata": {},
     "output_type": "execute_result"
    }
   ],
   "source": [
    "response['status']"
   ]
  },
  {
   "cell_type": "markdown",
   "metadata": {},
   "source": [
    "JSON files are usually complex and nested, when we don't need the nested structure but only part of the data, we will learn to \"normalize\" it later."
   ]
  },
  {
   "cell_type": "markdown",
   "metadata": {},
   "source": [
    "### 7.7 Notes on different file types"
   ]
  },
  {
   "cell_type": "markdown",
   "metadata": {},
   "source": [
    "We have seen examples of different types of data above:\n",
    "- unstructured: text. Processing tends to be expensive.\n",
    "- semi-structured: JSON, HMTL, etc. Parsing is expensive but processing is relative fast.\n",
    "- structured: .csv files. Parsing and processing are both fast.\n",
    "\n",
    "In most of the cases in DS projects, we will be dealing with structured data. Even for unstructured tast like NLP, the models are trained not on raw unstructured input but processed structured data like matices and tensors. Let's make sure we nail our structured data skills like we can walk before we run.\n",
    "\n",
    "\n",
    "#### Web scraping\n",
    "Web scraping data are semi-structured, if you are interested, explore [xml.etree.ElementTree](https://docs.python.org/3/library/xml.etree.elementtree.html) for XML parsing. and the famous [Beautiful Soup](https://www.crummy.com/software/BeautifulSoup/bs4/doc/) for HTML parsing."
   ]
  },
  {
   "cell_type": "markdown",
   "metadata": {},
   "source": [
    "#### Ex.7 \n",
    "Please finish this exercise in the `excercise_7.py` script."
   ]
  }
 ],
 "metadata": {
  "kernelspec": {
   "display_name": "Python 3",
   "language": "python",
   "name": "python3"
  },
  "language_info": {
   "codemirror_mode": {
    "name": "ipython",
    "version": 3
   },
   "file_extension": ".py",
   "mimetype": "text/x-python",
   "name": "python",
   "nbconvert_exporter": "python",
   "pygments_lexer": "ipython3",
   "version": "3.8.2"
  }
 },
 "nbformat": 4,
 "nbformat_minor": 2
}
