{
 "cells": [
  {
   "cell_type": "code",
   "execution_count": 5,
   "id": "0593b6ce",
   "metadata": {},
   "outputs": [
    {
     "name": "stdout",
     "output_type": "stream",
     "text": [
      "The autoreload extension is already loaded. To reload it, use:\n",
      "  %reload_ext autoreload\n"
     ]
    }
   ],
   "source": [
    "#load all modules automatically\n",
    "%load_ext autoreload\n",
    "%autoreload 2"
   ]
  },
  {
   "cell_type": "code",
   "execution_count": 9,
   "id": "33eca147",
   "metadata": {},
   "outputs": [],
   "source": [
    "from exercise_7_homework import *"
   ]
  },
  {
   "cell_type": "markdown",
   "id": "5e438bf1",
   "metadata": {},
   "source": [
    "check_path() demo"
   ]
  },
  {
   "cell_type": "code",
   "execution_count": 10,
   "id": "cee35a7a",
   "metadata": {},
   "outputs": [
    {
     "data": {
      "text/plain": [
       "(False, [])"
      ]
     },
     "execution_count": 10,
     "metadata": {},
     "output_type": "execute_result"
    }
   ],
   "source": [
    "check_path('test')"
   ]
  },
  {
   "cell_type": "code",
   "execution_count": 11,
   "id": "974bae7f",
   "metadata": {
    "scrolled": true
   },
   "outputs": [
    {
     "data": {
      "text/plain": [
       "(True, [False, False, True])"
      ]
     },
     "execution_count": 11,
     "metadata": {},
     "output_type": "execute_result"
    }
   ],
   "source": [
    "check_path('exercise_7_homework.py')"
   ]
  },
  {
   "cell_type": "markdown",
   "id": "4dcfc8e1",
   "metadata": {},
   "source": [
    "read_csv() demo"
   ]
  },
  {
   "cell_type": "code",
   "execution_count": 42,
   "id": "8ca7c0f3",
   "metadata": {},
   "outputs": [
    {
     "data": {
      "text/plain": [
       "14"
      ]
     },
     "execution_count": 42,
     "metadata": {},
     "output_type": "execute_result"
    }
   ],
   "source": [
    "read_csv('../AMZN.csv')"
   ]
  },
  {
   "cell_type": "markdown",
   "id": "340ce1f3",
   "metadata": {},
   "source": [
    "write_csv() demo"
   ]
  },
  {
   "cell_type": "code",
   "execution_count": 46,
   "id": "4472d275",
   "metadata": {},
   "outputs": [],
   "source": [
    "data_list = [(1,2,3,4), (5,6,7,8), (9,10,11,12)]"
   ]
  },
  {
   "cell_type": "code",
   "execution_count": 51,
   "id": "5964c7f4",
   "metadata": {
    "scrolled": true
   },
   "outputs": [
    {
     "data": {
      "text/plain": [
       "[(1, 2, 3, 4), (5, 6, 7, 8), (9, 10, 11, 12)]"
      ]
     },
     "execution_count": 51,
     "metadata": {},
     "output_type": "execute_result"
    }
   ],
   "source": [
    "#list item check\n",
    "data_list"
   ]
  },
  {
   "cell_type": "code",
   "execution_count": 50,
   "id": "b946bf42",
   "metadata": {},
   "outputs": [],
   "source": [
    "#actual function call\n",
    "write_csv(data_list,'example.csv')"
   ]
  },
  {
   "cell_type": "code",
   "execution_count": 52,
   "id": "85b83e05",
   "metadata": {},
   "outputs": [
    {
     "name": "stdout",
     "output_type": "stream",
     "text": [
      "['1', '2', '3', '4']\n",
      "[]\n",
      "['5', '6', '7', '8']\n",
      "[]\n",
      "['9', '10', '11', '12']\n",
      "[]\n"
     ]
    }
   ],
   "source": [
    "#print out the file content created by write_csv()\n",
    "with open('example.csv', 'r') as outputFile:\n",
    "    reader = csv.reader(outputFile)\n",
    "    for row in reader:\n",
    "        print(row)"
   ]
  },
  {
   "cell_type": "markdown",
   "id": "a099bf09",
   "metadata": {},
   "source": [
    "load_json() demo"
   ]
  },
  {
   "cell_type": "code",
   "execution_count": 54,
   "id": "114574b1",
   "metadata": {},
   "outputs": [
    {
     "name": "stdout",
     "output_type": "stream",
     "text": [
      "[{'name': 'emma', 'skill': {'coding1': 'python', 'coding2': 'r'}, 'role': 12345}]\n"
     ]
    }
   ],
   "source": [
    "resultDic = {}\n",
    "resultDic = read_json('../some.json')\n",
    "print(resultDic)"
   ]
  }
 ],
 "metadata": {
  "kernelspec": {
   "display_name": "Python 3 (ipykernel)",
   "language": "python",
   "name": "python3"
  },
  "language_info": {
   "codemirror_mode": {
    "name": "ipython",
    "version": 3
   },
   "file_extension": ".py",
   "mimetype": "text/x-python",
   "name": "python",
   "nbconvert_exporter": "python",
   "pygments_lexer": "ipython3",
   "version": "3.9.7"
  }
 },
 "nbformat": 4,
 "nbformat_minor": 5
}
