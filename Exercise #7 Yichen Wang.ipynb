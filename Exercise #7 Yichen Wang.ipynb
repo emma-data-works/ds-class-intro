{
 "cells": [
  {
   "cell_type": "code",
   "execution_count": 234,
   "id": "371cd28a",
   "metadata": {},
   "outputs": [
    {
     "name": "stdout",
     "output_type": "stream",
     "text": [
      "False , []\n"
     ]
    }
   ],
   "source": [
    "import os\n",
    "import csv\n",
    "import json\n",
    "\n",
    "#Q1\n",
    "\n",
    "def check_path(path):\n",
    "    \n",
    "    path_info_list = [os.path.isabs(path),os.path.isdir(path),os.path.isfile(path)]\n",
    "    \n",
    "    if os.path.exists(path) == True:\n",
    "        \n",
    "        print('True',',',path_info_list)\n",
    "    \n",
    "    else:\n",
    "        print('False',',',[])\n",
    "        \n",
    "        \n",
    "if __name__== \"__main__\":\n",
    "    check_path('c\\yiche\\desktop\\test.csv')       "
   ]
  },
  {
   "cell_type": "code",
   "execution_count": 222,
   "id": "ad4ac9c4",
   "metadata": {},
   "outputs": [
    {
     "name": "stdout",
     "output_type": "stream",
     "text": [
      "419\n"
     ]
    }
   ],
   "source": [
    "# Q2 Solution 1\n",
    "\n",
    "def read_csv(file):\n",
    "    \n",
    "    with open(file, 'r') as f:\n",
    "        reader = csv.reader(f)\n",
    "        rows = len(list(reader))\n",
    "\n",
    "    print(rows)\n",
    "    \n",
    "    return rows\n",
    "\n",
    "if __name__== \"__main__\":\n",
    "    read_csv('test.csv')"
   ]
  },
  {
   "cell_type": "code",
   "execution_count": 223,
   "id": "5fe6f9f1",
   "metadata": {},
   "outputs": [
    {
     "name": "stdout",
     "output_type": "stream",
     "text": [
      "419\n"
     ]
    }
   ],
   "source": [
    "#Q2 Solution 2\n",
    "\n",
    "def read_csv(file):\n",
    "    \n",
    "    with open(file, 'r') as f:\n",
    "        row = f.readlines()\n",
    "    print(len(row))\n",
    "    \n",
    "    return len(row)\n",
    "\n",
    "if __name__== \"__main__\":\n",
    "    read_csv('test.csv')"
   ]
  },
  {
   "cell_type": "code",
   "execution_count": 233,
   "id": "6e29a831",
   "metadata": {},
   "outputs": [
    {
     "name": "stdout",
     "output_type": "stream",
     "text": [
      "(4, 5, 6)\n",
      "1\n",
      "2\n",
      "3\n",
      "hello\n"
     ]
    }
   ],
   "source": [
    "#Q3:\n",
    "\n",
    "import csv\n",
    "\n",
    "def write_csv(data_list, output_list):\n",
    "    \n",
    "    with open ('output_list.csv', 'a+', newline='') as file:\n",
    "        \n",
    "        writer = csv.writer(file, delimiter = ',', lineterminator = '\\n')\n",
    "        \n",
    "        writer.writerow([data_list])\n",
    "            \n",
    "        for row in data_list:\n",
    "            print(row)\n",
    "    \n",
    "if __name__== \"__main__\":\n",
    "    \n",
    "    write_csv([(4,5,6),1,2,3,'hello'], 'example.csv')\n",
    "    "
   ]
  },
  {
   "cell_type": "code",
   "execution_count": 243,
   "id": "4cb5533c",
   "metadata": {},
   "outputs": [
    {
     "name": "stdout",
     "output_type": "stream",
     "text": [
      "[{'name': 'emma', 'skill': {'coding1': 'python', 'coding2': 'r'}, 'role': 12345}]\n"
     ]
    }
   ],
   "source": [
    "# Q4 \n",
    "def read_json(file):\n",
    "\n",
    "    with open(file) as f:\n",
    "        js = json.load(f)\n",
    "        \n",
    "    print(js)\n",
    "\n",
    "if __name__=='__main__':\n",
    "    \n",
    "    read_json('some.json')\n",
    "    "
   ]
  }
 ],
 "metadata": {
  "kernelspec": {
   "display_name": "Python 3",
   "language": "python",
   "name": "python3"
  },
  "language_info": {
   "codemirror_mode": {
    "name": "ipython",
    "version": 3
   },
   "file_extension": ".py",
   "mimetype": "text/x-python",
   "name": "python",
   "nbconvert_exporter": "python",
   "pygments_lexer": "ipython3",
   "version": "3.8.11"
  }
 },
 "nbformat": 4,
 "nbformat_minor": 5
}
