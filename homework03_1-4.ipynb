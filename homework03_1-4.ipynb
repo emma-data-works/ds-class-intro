{
 "cells": [
  {
   "cell_type": "code",
   "execution_count": 22,
   "id": "1a418800",
   "metadata": {},
   "outputs": [],
   "source": [
    "import pandas as pd\n",
    "pd.set_option('display.max_columns', 100)\n",
    "\n",
    "college = pd.read_csv('pandas_intro/data/college.csv')\n",
    "college_idx = college.set_index('instnm')"
   ]
  },
  {
   "cell_type": "code",
   "execution_count": 24,
   "id": "c386b59c",
   "metadata": {
    "scrolled": true
   },
   "outputs": [
    {
     "data": {
      "text/html": [
       "<div>\n",
       "<style scoped>\n",
       "    .dataframe tbody tr th:only-of-type {\n",
       "        vertical-align: middle;\n",
       "    }\n",
       "\n",
       "    .dataframe tbody tr th {\n",
       "        vertical-align: top;\n",
       "    }\n",
       "\n",
       "    .dataframe thead th {\n",
       "        text-align: right;\n",
       "    }\n",
       "</style>\n",
       "<table border=\"1\" class=\"dataframe\">\n",
       "  <thead>\n",
       "    <tr style=\"text-align: right;\">\n",
       "      <th></th>\n",
       "      <th>instnm</th>\n",
       "      <th>city</th>\n",
       "      <th>stabbr</th>\n",
       "      <th>hbcu</th>\n",
       "      <th>menonly</th>\n",
       "      <th>womenonly</th>\n",
       "      <th>relaffil</th>\n",
       "      <th>satvrmid</th>\n",
       "      <th>satmtmid</th>\n",
       "      <th>distanceonly</th>\n",
       "      <th>ugds</th>\n",
       "      <th>ugds_white</th>\n",
       "      <th>ugds_black</th>\n",
       "      <th>ugds_hisp</th>\n",
       "      <th>ugds_asian</th>\n",
       "      <th>ugds_aian</th>\n",
       "      <th>ugds_nhpi</th>\n",
       "      <th>ugds_2mor</th>\n",
       "      <th>ugds_nra</th>\n",
       "      <th>ugds_unkn</th>\n",
       "      <th>pptug_ef</th>\n",
       "      <th>curroper</th>\n",
       "      <th>pctpell</th>\n",
       "      <th>pctfloan</th>\n",
       "      <th>ug25abv</th>\n",
       "      <th>md_earn_wne_p10</th>\n",
       "      <th>grad_debt_mdn_supp</th>\n",
       "    </tr>\n",
       "  </thead>\n",
       "  <tbody>\n",
       "    <tr>\n",
       "      <th>0</th>\n",
       "      <td>Alabama A &amp; M University</td>\n",
       "      <td>Normal</td>\n",
       "      <td>AL</td>\n",
       "      <td>1.0</td>\n",
       "      <td>0.0</td>\n",
       "      <td>0.0</td>\n",
       "      <td>0</td>\n",
       "      <td>424.0</td>\n",
       "      <td>420.0</td>\n",
       "      <td>0.0</td>\n",
       "      <td>4206.0</td>\n",
       "      <td>0.0333</td>\n",
       "      <td>0.9353</td>\n",
       "      <td>0.0055</td>\n",
       "      <td>0.0019</td>\n",
       "      <td>0.0024</td>\n",
       "      <td>0.0019</td>\n",
       "      <td>0.0000</td>\n",
       "      <td>0.0059</td>\n",
       "      <td>0.0138</td>\n",
       "      <td>0.0656</td>\n",
       "      <td>1</td>\n",
       "      <td>0.7356</td>\n",
       "      <td>0.8284</td>\n",
       "      <td>0.1049</td>\n",
       "      <td>30300</td>\n",
       "      <td>33888</td>\n",
       "    </tr>\n",
       "    <tr>\n",
       "      <th>1</th>\n",
       "      <td>University of Alabama at Birmingham</td>\n",
       "      <td>Birmingham</td>\n",
       "      <td>AL</td>\n",
       "      <td>0.0</td>\n",
       "      <td>0.0</td>\n",
       "      <td>0.0</td>\n",
       "      <td>0</td>\n",
       "      <td>570.0</td>\n",
       "      <td>565.0</td>\n",
       "      <td>0.0</td>\n",
       "      <td>11383.0</td>\n",
       "      <td>0.5922</td>\n",
       "      <td>0.2600</td>\n",
       "      <td>0.0283</td>\n",
       "      <td>0.0518</td>\n",
       "      <td>0.0022</td>\n",
       "      <td>0.0007</td>\n",
       "      <td>0.0368</td>\n",
       "      <td>0.0179</td>\n",
       "      <td>0.0100</td>\n",
       "      <td>0.2607</td>\n",
       "      <td>1</td>\n",
       "      <td>0.3460</td>\n",
       "      <td>0.5214</td>\n",
       "      <td>0.2422</td>\n",
       "      <td>39700</td>\n",
       "      <td>21941.5</td>\n",
       "    </tr>\n",
       "  </tbody>\n",
       "</table>\n",
       "</div>"
      ],
      "text/plain": [
       "                                instnm        city stabbr  hbcu  menonly  \\\n",
       "0             Alabama A & M University      Normal     AL   1.0      0.0   \n",
       "1  University of Alabama at Birmingham  Birmingham     AL   0.0      0.0   \n",
       "\n",
       "   womenonly  relaffil  satvrmid  satmtmid  distanceonly     ugds  ugds_white  \\\n",
       "0        0.0         0     424.0     420.0           0.0   4206.0      0.0333   \n",
       "1        0.0         0     570.0     565.0           0.0  11383.0      0.5922   \n",
       "\n",
       "   ugds_black  ugds_hisp  ugds_asian  ugds_aian  ugds_nhpi  ugds_2mor  \\\n",
       "0      0.9353     0.0055      0.0019     0.0024     0.0019     0.0000   \n",
       "1      0.2600     0.0283      0.0518     0.0022     0.0007     0.0368   \n",
       "\n",
       "   ugds_nra  ugds_unkn  pptug_ef  curroper  pctpell  pctfloan  ug25abv  \\\n",
       "0    0.0059     0.0138    0.0656         1   0.7356    0.8284   0.1049   \n",
       "1    0.0179     0.0100    0.2607         1   0.3460    0.5214   0.2422   \n",
       "\n",
       "  md_earn_wne_p10 grad_debt_mdn_supp  \n",
       "0           30300              33888  \n",
       "1           39700            21941.5  "
      ]
     },
     "execution_count": 24,
     "metadata": {},
     "output_type": "execute_result"
    }
   ],
   "source": [
    "college.head(2)"
   ]
  },
  {
   "cell_type": "code",
   "execution_count": 25,
   "id": "7c1a7042",
   "metadata": {},
   "outputs": [
    {
     "data": {
      "text/html": [
       "<div>\n",
       "<style scoped>\n",
       "    .dataframe tbody tr th:only-of-type {\n",
       "        vertical-align: middle;\n",
       "    }\n",
       "\n",
       "    .dataframe tbody tr th {\n",
       "        vertical-align: top;\n",
       "    }\n",
       "\n",
       "    .dataframe thead th {\n",
       "        text-align: right;\n",
       "    }\n",
       "</style>\n",
       "<table border=\"1\" class=\"dataframe\">\n",
       "  <thead>\n",
       "    <tr style=\"text-align: right;\">\n",
       "      <th></th>\n",
       "      <th>city</th>\n",
       "      <th>stabbr</th>\n",
       "      <th>hbcu</th>\n",
       "      <th>menonly</th>\n",
       "      <th>womenonly</th>\n",
       "      <th>relaffil</th>\n",
       "      <th>satvrmid</th>\n",
       "      <th>satmtmid</th>\n",
       "      <th>distanceonly</th>\n",
       "      <th>ugds</th>\n",
       "      <th>ugds_white</th>\n",
       "      <th>ugds_black</th>\n",
       "      <th>ugds_hisp</th>\n",
       "      <th>ugds_asian</th>\n",
       "      <th>ugds_aian</th>\n",
       "      <th>ugds_nhpi</th>\n",
       "      <th>ugds_2mor</th>\n",
       "      <th>ugds_nra</th>\n",
       "      <th>ugds_unkn</th>\n",
       "      <th>pptug_ef</th>\n",
       "      <th>curroper</th>\n",
       "      <th>pctpell</th>\n",
       "      <th>pctfloan</th>\n",
       "      <th>ug25abv</th>\n",
       "      <th>md_earn_wne_p10</th>\n",
       "      <th>grad_debt_mdn_supp</th>\n",
       "    </tr>\n",
       "    <tr>\n",
       "      <th>instnm</th>\n",
       "      <th></th>\n",
       "      <th></th>\n",
       "      <th></th>\n",
       "      <th></th>\n",
       "      <th></th>\n",
       "      <th></th>\n",
       "      <th></th>\n",
       "      <th></th>\n",
       "      <th></th>\n",
       "      <th></th>\n",
       "      <th></th>\n",
       "      <th></th>\n",
       "      <th></th>\n",
       "      <th></th>\n",
       "      <th></th>\n",
       "      <th></th>\n",
       "      <th></th>\n",
       "      <th></th>\n",
       "      <th></th>\n",
       "      <th></th>\n",
       "      <th></th>\n",
       "      <th></th>\n",
       "      <th></th>\n",
       "      <th></th>\n",
       "      <th></th>\n",
       "      <th></th>\n",
       "    </tr>\n",
       "  </thead>\n",
       "  <tbody>\n",
       "    <tr>\n",
       "      <th>Alabama A &amp; M University</th>\n",
       "      <td>Normal</td>\n",
       "      <td>AL</td>\n",
       "      <td>1.0</td>\n",
       "      <td>0.0</td>\n",
       "      <td>0.0</td>\n",
       "      <td>0</td>\n",
       "      <td>424.0</td>\n",
       "      <td>420.0</td>\n",
       "      <td>0.0</td>\n",
       "      <td>4206.0</td>\n",
       "      <td>0.0333</td>\n",
       "      <td>0.9353</td>\n",
       "      <td>0.0055</td>\n",
       "      <td>0.0019</td>\n",
       "      <td>0.0024</td>\n",
       "      <td>0.0019</td>\n",
       "      <td>0.0000</td>\n",
       "      <td>0.0059</td>\n",
       "      <td>0.0138</td>\n",
       "      <td>0.0656</td>\n",
       "      <td>1</td>\n",
       "      <td>0.7356</td>\n",
       "      <td>0.8284</td>\n",
       "      <td>0.1049</td>\n",
       "      <td>30300</td>\n",
       "      <td>33888</td>\n",
       "    </tr>\n",
       "    <tr>\n",
       "      <th>University of Alabama at Birmingham</th>\n",
       "      <td>Birmingham</td>\n",
       "      <td>AL</td>\n",
       "      <td>0.0</td>\n",
       "      <td>0.0</td>\n",
       "      <td>0.0</td>\n",
       "      <td>0</td>\n",
       "      <td>570.0</td>\n",
       "      <td>565.0</td>\n",
       "      <td>0.0</td>\n",
       "      <td>11383.0</td>\n",
       "      <td>0.5922</td>\n",
       "      <td>0.2600</td>\n",
       "      <td>0.0283</td>\n",
       "      <td>0.0518</td>\n",
       "      <td>0.0022</td>\n",
       "      <td>0.0007</td>\n",
       "      <td>0.0368</td>\n",
       "      <td>0.0179</td>\n",
       "      <td>0.0100</td>\n",
       "      <td>0.2607</td>\n",
       "      <td>1</td>\n",
       "      <td>0.3460</td>\n",
       "      <td>0.5214</td>\n",
       "      <td>0.2422</td>\n",
       "      <td>39700</td>\n",
       "      <td>21941.5</td>\n",
       "    </tr>\n",
       "  </tbody>\n",
       "</table>\n",
       "</div>"
      ],
      "text/plain": [
       "                                           city stabbr  hbcu  menonly  \\\n",
       "instnm                                                                  \n",
       "Alabama A & M University                 Normal     AL   1.0      0.0   \n",
       "University of Alabama at Birmingham  Birmingham     AL   0.0      0.0   \n",
       "\n",
       "                                     womenonly  relaffil  satvrmid  satmtmid  \\\n",
       "instnm                                                                         \n",
       "Alabama A & M University                   0.0         0     424.0     420.0   \n",
       "University of Alabama at Birmingham        0.0         0     570.0     565.0   \n",
       "\n",
       "                                     distanceonly     ugds  ugds_white  \\\n",
       "instnm                                                                   \n",
       "Alabama A & M University                      0.0   4206.0      0.0333   \n",
       "University of Alabama at Birmingham           0.0  11383.0      0.5922   \n",
       "\n",
       "                                     ugds_black  ugds_hisp  ugds_asian  \\\n",
       "instnm                                                                   \n",
       "Alabama A & M University                 0.9353     0.0055      0.0019   \n",
       "University of Alabama at Birmingham      0.2600     0.0283      0.0518   \n",
       "\n",
       "                                     ugds_aian  ugds_nhpi  ugds_2mor  \\\n",
       "instnm                                                                 \n",
       "Alabama A & M University                0.0024     0.0019     0.0000   \n",
       "University of Alabama at Birmingham     0.0022     0.0007     0.0368   \n",
       "\n",
       "                                     ugds_nra  ugds_unkn  pptug_ef  curroper  \\\n",
       "instnm                                                                         \n",
       "Alabama A & M University               0.0059     0.0138    0.0656         1   \n",
       "University of Alabama at Birmingham    0.0179     0.0100    0.2607         1   \n",
       "\n",
       "                                     pctpell  pctfloan  ug25abv  \\\n",
       "instnm                                                            \n",
       "Alabama A & M University              0.7356    0.8284   0.1049   \n",
       "University of Alabama at Birmingham   0.3460    0.5214   0.2422   \n",
       "\n",
       "                                    md_earn_wne_p10 grad_debt_mdn_supp  \n",
       "instnm                                                                  \n",
       "Alabama A & M University                      30300              33888  \n",
       "University of Alabama at Birmingham           39700            21941.5  "
      ]
     },
     "execution_count": 25,
     "metadata": {},
     "output_type": "execute_result"
    }
   ],
   "source": [
    "college_idx.head(2)"
   ]
  },
  {
   "cell_type": "markdown",
   "id": "37857249",
   "metadata": {},
   "source": [
    "### Exercise 1\n",
    "What is the median SAT Math score (satmtmid) for **The University of Texas at Dallas**?"
   ]
  },
  {
   "cell_type": "code",
   "execution_count": 23,
   "id": "a72213b3",
   "metadata": {},
   "outputs": [
    {
     "data": {
      "text/plain": [
       "645.0"
      ]
     },
     "execution_count": 23,
     "metadata": {},
     "output_type": "execute_result"
    }
   ],
   "source": [
    "college_idx.loc['The University of Texas at Dallas']['satmtmid']"
   ]
  },
  {
   "cell_type": "markdown",
   "id": "728dda71",
   "metadata": {},
   "source": [
    "### Exercise 2\n",
    "What state (stabbr) has the 5th highest total undergraduate population (ugds) and what is that population?"
   ]
  },
  {
   "cell_type": "code",
   "execution_count": 48,
   "id": "72d0b176",
   "metadata": {},
   "outputs": [
    {
     "data": {
      "text/plain": [
       "ugds    49340.0\n",
       "Name: VA, dtype: float64"
      ]
     },
     "execution_count": 48,
     "metadata": {},
     "output_type": "execute_result"
    }
   ],
   "source": [
    "college[['stabbr', 'ugds']].groupby('stabbr').max().sort_values(by = 'ugds', ascending = False).iloc[4]"
   ]
  },
  {
   "cell_type": "markdown",
   "id": "fbd61fd8",
   "metadata": {},
   "source": [
    "### Exercise 3: Which columns in college dataset contain missing value? What are their missing rate(%)?"
   ]
  },
  {
   "cell_type": "code",
   "execution_count": 26,
   "id": "efed4669",
   "metadata": {},
   "outputs": [
    {
     "data": {
      "text/plain": [
       "['hbcu',\n",
       " 'menonly',\n",
       " 'womenonly',\n",
       " 'satvrmid',\n",
       " 'satmtmid',\n",
       " 'distanceonly',\n",
       " 'ugds',\n",
       " 'ugds_white',\n",
       " 'ugds_black',\n",
       " 'ugds_hisp',\n",
       " 'ugds_asian',\n",
       " 'ugds_aian',\n",
       " 'ugds_nhpi',\n",
       " 'ugds_2mor',\n",
       " 'ugds_nra',\n",
       " 'ugds_unkn',\n",
       " 'pptug_ef',\n",
       " 'pctpell',\n",
       " 'pctfloan',\n",
       " 'ug25abv',\n",
       " 'md_earn_wne_p10',\n",
       " 'grad_debt_mdn_supp']"
      ]
     },
     "execution_count": 26,
     "metadata": {},
     "output_type": "execute_result"
    }
   ],
   "source": [
    "na_cols = college.columns[college.isna().any()].tolist()\n",
    "na_cols"
   ]
  },
  {
   "cell_type": "code",
   "execution_count": 27,
   "id": "959ea65b",
   "metadata": {},
   "outputs": [
    {
     "data": {
      "text/plain": [
       "[0.04923689449236895,\n",
       " 0.04923689449236895,\n",
       " 0.04923689449236895,\n",
       " 0.8427339084273391,\n",
       " 0.8412740544127405,\n",
       " 0.04923689449236895,\n",
       " 0.08772395487723955,\n",
       " 0.08772395487723955,\n",
       " 0.08772395487723955,\n",
       " 0.08772395487723955,\n",
       " 0.08772395487723955,\n",
       " 0.08772395487723955,\n",
       " 0.08772395487723955,\n",
       " 0.08772395487723955,\n",
       " 0.08772395487723955,\n",
       " 0.08772395487723955,\n",
       " 0.0905109489051095,\n",
       " 0.09104180491041805,\n",
       " 0.09104180491041805,\n",
       " 0.10842733908427339,\n",
       " 0.14890510948905109,\n",
       " 0.00424684804246848]"
      ]
     },
     "execution_count": 27,
     "metadata": {},
     "output_type": "execute_result"
    }
   ],
   "source": [
    "miss_rate = [college[na_cols[i]].isna().mean() for i in range(len(na_cols))]\n",
    "miss_rate"
   ]
  },
  {
   "cell_type": "markdown",
   "id": "1b464b2e",
   "metadata": {},
   "source": [
    "### Exercise 4: Is there statistical significant difference between average md_earn_wne_p10 (Median Earnings 10 years after enrollment) for schools in Texas and California?"
   ]
  },
  {
   "cell_type": "code",
   "execution_count": 181,
   "id": "1ac28204",
   "metadata": {},
   "outputs": [],
   "source": [
    "# you might find the following function useful to converts data to numeric\n",
    "# pd.to_numeric()\n",
    "\n",
    "# example code for p-value calculation if you'd like to calculate z-scores\n",
    "import scipy.stats as st\n",
    "# st.norm.cdf(-1.506666)\n",
    "\n",
    "# you may also find the following function useful\n",
    "# st.ttest_ind()"
   ]
  },
  {
   "cell_type": "code",
   "execution_count": 247,
   "id": "5bb15ae4",
   "metadata": {},
   "outputs": [],
   "source": [
    "# Extract only colleges from TX/CA and their corresponding md_earn_wne_p10s and drop NaN values\n",
    "tx_subtbl = college_idx.loc[college_idx['stabbr'] == 'TX', ['md_earn_wne_p10']].dropna()\n",
    "ca_subtbl = college_idx.loc[college_idx['stabbr'] == 'CA', ['md_earn_wne_p10']].dropna()"
   ]
  },
  {
   "cell_type": "code",
   "execution_count": 249,
   "id": "4541cff2",
   "metadata": {},
   "outputs": [],
   "source": [
    "# Convert values in column 'md_earn_wne_p10' into numeric and drop NaN values\n",
    "tx10 = pd.to_numeric(tx_subtbl['md_earn_wne_p10'], errors = 'coerce').dropna()\n",
    "ca10 = pd.to_numeric(ca_subtbl['md_earn_wne_p10'], errors = 'coerce').dropna()"
   ]
  },
  {
   "cell_type": "code",
   "execution_count": 251,
   "id": "722dc2cd",
   "metadata": {},
   "outputs": [
    {
     "name": "stdout",
     "output_type": "stream",
     "text": [
      "t = -2.49758742789479759594; p =  0.01271603894674366332\n",
      "z-score = 0.006252081359603864\n"
     ]
    }
   ],
   "source": [
    "t, p = st.ttest_ind(tx10, ca10, equal_var = False)\n",
    "print('t = {0: .20f}; p = {1: .20f}'.format(t,p))\n",
    "print('z-score = {}'.format(st.norm.cdf(t)))"
   ]
  }
 ],
 "metadata": {
  "kernelspec": {
   "display_name": "Python 3",
   "language": "python",
   "name": "python3"
  },
  "language_info": {
   "codemirror_mode": {
    "name": "ipython",
    "version": 3
   },
   "file_extension": ".py",
   "mimetype": "text/x-python",
   "name": "python",
   "nbconvert_exporter": "python",
   "pygments_lexer": "ipython3",
   "version": "3.9.5"
  }
 },
 "nbformat": 4,
 "nbformat_minor": 5
}
