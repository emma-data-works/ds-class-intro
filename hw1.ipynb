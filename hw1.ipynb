{
 "cells": [
  {
   "cell_type": "markdown",
   "id": "7c488032",
   "metadata": {},
   "source": [
    "# Exercise 3.\n",
    "Write a program flow which will assign grade by the test scores using the following conditions:\n",
    "\n",
    "If score >= 90, grade=\"A\"\n",
    "If 80 >= score >90, grade=\"B\"\n",
    "If 70 >= score >80, grade=\"C\"\n",
    "If 60 >= score >70, grade=\"D\"\n",
    "IF score < 60, grade=\"F\""
   ]
  },
  {
   "cell_type": "code",
   "execution_count": 2,
   "id": "dc87ab0a",
   "metadata": {
    "scrolled": true
   },
   "outputs": [
    {
     "name": "stdout",
     "output_type": "stream",
     "text": [
      "D\n"
     ]
    }
   ],
   "source": [
    "score = 60\n",
    "if score >=90:\n",
    "    grade = \"A\"\n",
    "elif score >=80:\n",
    "    grade = \"B\"\n",
    "elif score >=70:\n",
    "    grade = \"C\"\n",
    "elif score >=60:\n",
    "    grade = \"D\"\n",
    "else:\n",
    "    grade= \"F\"\n",
    "print(grade)\n",
    "    "
   ]
  },
  {
   "cell_type": "markdown",
   "id": "aec2d091",
   "metadata": {},
   "source": [
    "Exercise 4.\n",
    "Read more on list and select 2 list methods not mentioned in class to give examples of using them."
   ]
  },
  {
   "cell_type": "code",
   "execution_count": null,
   "id": "57198948",
   "metadata": {},
   "outputs": [],
   "source": []
  }
 ],
 "metadata": {
  "kernelspec": {
   "display_name": "Python 3 (ipykernel)",
   "language": "python",
   "name": "python3"
  },
  "language_info": {
   "codemirror_mode": {
    "name": "ipython",
    "version": 3
   },
   "file_extension": ".py",
   "mimetype": "text/x-python",
   "name": "python",
   "nbconvert_exporter": "python",
   "pygments_lexer": "ipython3",
   "version": "3.9.7"
  }
 },
 "nbformat": 4,
 "nbformat_minor": 5
}
