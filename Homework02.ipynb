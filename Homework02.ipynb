{
 "cells": [
  {
   "cell_type": "markdown",
   "id": "370fdc3f",
   "metadata": {},
   "source": [
    "#### Exercise 5.\n",
    "\n",
    "1. Write a Python program to find those numbers which are divisible by 7 and multiple of 5, between 1500 and 2700 (both included)."
   ]
  },
  {
   "cell_type": "code",
   "execution_count": 72,
   "id": "c4210c8d",
   "metadata": {},
   "outputs": [
    {
     "name": "stdout",
     "output_type": "stream",
     "text": [
      "[1505, 1540, 1575, 1610, 1645, 1680, 1715, 1750, 1785, 1820, 1855, 1890, 1925, 1960, 1995, 2030, 2065, 2100, 2135, 2170, 2205, 2240, 2275, 2310, 2345, 2380, 2415, 2450, 2485, 2520, 2555, 2590, 2625, 2660, 2695]\n"
     ]
    }
   ],
   "source": [
    "num_1 = []\n",
    "for i in range(1500,2701):\n",
    "    if i % 35 ==0:\n",
    "        num_1.append(i)\n",
    "print(num_1)"
   ]
  },
  {
   "cell_type": "markdown",
   "id": "a550c047",
   "metadata": {},
   "source": [
    "2. Write a Python program to count the number of even and odd numbers from a series of numbers.\n",
    "\n",
    "Sample: `numbers = (1, 2, 3, 4, 5, 6, 7, 8, 9)`\n",
    "\n",
    "Expected Output :\n",
    "\n",
    "```\n",
    "Number of even numbers : 4\n",
    "Number of odd numbers : 5\n",
    "```"
   ]
  },
  {
   "cell_type": "code",
   "execution_count": 18,
   "id": "6a45ebae",
   "metadata": {},
   "outputs": [],
   "source": [
    "def count_numbers(numbers):\n",
    "    odd = 0\n",
    "    even = 0\n",
    "    for i in numbers:\n",
    "        if i%2==1:\n",
    "            odd +=1\n",
    "        else:\n",
    "            even +=1\n",
    "    return \"The count of odd number in the list is {0}, the count of even number in the list is {1}\".format(odd,even)"
   ]
  },
  {
   "cell_type": "code",
   "execution_count": 19,
   "id": "8c2d7abd",
   "metadata": {},
   "outputs": [
    {
     "name": "stdout",
     "output_type": "stream",
     "text": [
      "The count of odd number in the list is 5, the count of even number in the list is 4\n"
     ]
    }
   ],
   "source": [
    "numbers = (1, 2, 3, 4, 5, 6, 7, 8, 9)\n",
    "print(count_numbers(numbers))"
   ]
  },
  {
   "cell_type": "markdown",
   "id": "40172b6b",
   "metadata": {},
   "source": [
    "3. Write a Python program which iterates the integers from 0 to 50. For multiples of three print \"Fizz\" instead of the number and for the multiples of five print \"Buzz\". For numbers which are multiples of both three and five print \"FizzBuzz\".\n",
    "\n",
    "Expected Output :\n",
    "```\n",
    "fizzbuzz\n",
    "1\n",
    "2\n",
    "fizz\n",
    "4\n",
    "buzz\n",
    "...\n",
    "```"
   ]
  },
  {
   "cell_type": "code",
   "execution_count": 74,
   "id": "6fd6c644",
   "metadata": {},
   "outputs": [],
   "source": [
    "def fizzbuzz(numbers):\n",
    "    for index, num in enumerate(numbers):\n",
    "        if num % 15 ==0:\n",
    "            numbers[index] = 'fizzbuzz'\n",
    "        elif num % 5 ==0:\n",
    "            numbers[index] = 'buzz'\n",
    "        elif num % 3 == 0:\n",
    "            numbers[index] = 'fizz'\n",
    "    return numbers"
   ]
  },
  {
   "cell_type": "code",
   "execution_count": 75,
   "id": "13656368",
   "metadata": {},
   "outputs": [
    {
     "name": "stdout",
     "output_type": "stream",
     "text": [
      "['fizzbuzz', 1, 2, 'fizz', 4, 'buzz', 'fizz', 7, 8, 'fizz', 'buzz', 11, 'fizz', 13, 14, 'fizzbuzz', 16, 17, 'fizz', 19, 'buzz', 'fizz', 22, 23, 'fizz', 'buzz', 26, 'fizz', 28, 29, 'fizzbuzz', 31, 32, 'fizz', 34, 'buzz', 'fizz', 37, 38, 'fizz', 'buzz', 41, 'fizz', 43, 44, 'fizzbuzz', 46, 47, 'fizz', 49, 'buzz']\n"
     ]
    }
   ],
   "source": [
    "numberlist = list(range(51))\n",
    "print(fizzbuzz(numberlist))"
   ]
  },
  {
   "cell_type": "markdown",
   "id": "912e1b71",
   "metadata": {},
   "source": [
    "4. Given a list iterate it and display numbers which are divisible by 5 and if you find number greater than 150 stop the loop iteration\n",
    "\n",
    "`list1 = [12, 15, 32, 42, 55, 75, 122, 132, 150, 180, 200]`\n",
    "\n",
    "Expected output:\n",
    "```\n",
    "15\n",
    "55\n",
    "75\n",
    "150\n",
    "```"
   ]
  },
  {
   "cell_type": "code",
   "execution_count": 22,
   "id": "ce452743",
   "metadata": {},
   "outputs": [],
   "source": [
    "def divisible_5(numbers):\n",
    "    divisible_by_5 = []\n",
    "    for i in numbers:\n",
    "        if i <= 150:\n",
    "            if i % 5 ==0:\n",
    "                divisible_by_5.append(i)\n",
    "        else:\n",
    "            break\n",
    "    return 'The numbers which are divisible by 5 is {0}'.format(divisible_by_5)           "
   ]
  },
  {
   "cell_type": "code",
   "execution_count": 26,
   "id": "016f2a0a",
   "metadata": {},
   "outputs": [
    {
     "name": "stdout",
     "output_type": "stream",
     "text": [
      "The numbers which are divisible by 5 is [15, 55, 75, 150]\n"
     ]
    }
   ],
   "source": [
    "list1 = [12, 15, 32, 42, 55, 75, 122,132, 150, 180, 200]\n",
    "print(divisible_5(list1))"
   ]
  },
  {
   "cell_type": "markdown",
   "id": "0ecebf28",
   "metadata": {},
   "source": [
    "5. Pick one of the questions above and use `range()` for a different solution"
   ]
  },
  {
   "cell_type": "code",
   "execution_count": 76,
   "id": "2d7bc1e7",
   "metadata": {},
   "outputs": [
    {
     "name": "stdout",
     "output_type": "stream",
     "text": [
      "['fizzbuzz', 1, 2, 'fizz', 4, 'buzz', 'fizz', 7, 8, 'fizz', 'buzz', 11, 'fizz', 13, 14, 'fizzbuzz', 16, 17, 'fizz', 19, 'buzz', 'fizz', 22, 23, 'fizz', 'buzz', 26, 'fizz', 28, 29, 'fizzbuzz', 31, 32, 'fizz', 34, 'buzz', 'fizz', 37, 38, 'fizz', 'buzz', 41, 'fizz', 43, 44, 'fizzbuzz', 46, 47, 'fizz', 49, 'buzz']\n"
     ]
    }
   ],
   "source": [
    "# Picked Question 3\n",
    "numbers = list(range(51))\n",
    "for index, num in enumerate(numbers):\n",
    "    if num % 15 ==0:\n",
    "        numbers[index] = 'fizzbuzz'\n",
    "    elif num % 5 ==0:\n",
    "        numbers[index] = 'buzz'\n",
    "    elif num % 3 == 0:\n",
    "        numbers[index] = 'fizz'\n",
    "print(numbers)"
   ]
  },
  {
   "cell_type": "markdown",
   "id": "15d8b030",
   "metadata": {},
   "source": [
    "6. Pick one of the question above and use comprehensions for a different solution"
   ]
  },
  {
   "cell_type": "code",
   "execution_count": 73,
   "id": "d6182e0b",
   "metadata": {},
   "outputs": [
    {
     "name": "stdout",
     "output_type": "stream",
     "text": [
      "[1505, 1540, 1575, 1610, 1645, 1680, 1715, 1750, 1785, 1820, 1855, 1890, 1925, 1960, 1995, 2030, 2065, 2100, 2135, 2170, 2205, 2240, 2275, 2310, 2345, 2380, 2415, 2450, 2485, 2520, 2555, 2590, 2625, 2660, 2695]\n"
     ]
    }
   ],
   "source": [
    "#Picked Question 1\n",
    "num_1 = [num for num in range(1500,2701) if num % 35==0] \n",
    "print(num_1)"
   ]
  },
  {
   "cell_type": "markdown",
   "id": "e39b5808",
   "metadata": {},
   "source": [
    "7. Pcik one of the questions above and use `while` loop for a different solution"
   ]
  },
  {
   "cell_type": "code",
   "execution_count": 96,
   "id": "530cf1a6",
   "metadata": {},
   "outputs": [],
   "source": [
    "#Picked Question 4\n",
    "def divisible_5_while(numbers):\n",
    "    divisible_by_5_while = []\n",
    "    i=0\n",
    "    while i <=len(numbers):\n",
    "        if numbers[i] <=150:\n",
    "            if numbers[i] % 5 ==0:\n",
    "                divisible_by_5_while.append(numbers[i])\n",
    "            i+=1\n",
    "        else:\n",
    "            break\n",
    "    return 'The numbers which are divisible by 5 is {0}'.format(divisible_by_5_while)   "
   ]
  },
  {
   "cell_type": "code",
   "execution_count": 97,
   "id": "33aa991e",
   "metadata": {},
   "outputs": [
    {
     "name": "stdout",
     "output_type": "stream",
     "text": [
      "The numbers which are divisible by 5 is [15, 55, 75, 150]\n"
     ]
    }
   ],
   "source": [
    "list1 = [12, 15, 32, 42, 55, 75, 122,132, 150, 180, 200]\n",
    "print(divisible_5_while(list1))"
   ]
  },
  {
   "cell_type": "markdown",
   "id": "cf999ca6",
   "metadata": {},
   "source": [
    "#### Exercise 6."
   ]
  },
  {
   "cell_type": "code",
   "execution_count": 112,
   "id": "c982448e",
   "metadata": {},
   "outputs": [],
   "source": [
    "def calculation(a, b):\n",
    "    '''\n",
    "    Write a function calculation() such that it can accept two variables \n",
    "    and calculate the addition and subtraction of it. \n",
    "    It must return both addition and subtraction in a single return call\n",
    "\n",
    "    Expected output:\n",
    "    res = calculation(40, 10)\n",
    "    print(res)\n",
    "    >>> (50, 30)\n",
    "\n",
    "    Arguments:\n",
    "    a: first number \n",
    "    b: second number\n",
    "\n",
    "    Returns:\n",
    "    sum: sum of two numbers\n",
    "    diff: difference of two numbers\n",
    "    '''\n",
    "    # code up your solution here\n",
    "    return a+b, a-b\n",
    "    \n"
   ]
  },
  {
   "cell_type": "code",
   "execution_count": 116,
   "id": "4316820a",
   "metadata": {},
   "outputs": [
    {
     "data": {
      "text/plain": [
       "(141.01, -60.010000000000005)"
      ]
     },
     "execution_count": 116,
     "metadata": {},
     "output_type": "execute_result"
    }
   ],
   "source": [
    "res=calculation(40.5,100.51)\n",
    "res"
   ]
  },
  {
   "cell_type": "code",
   "execution_count": 117,
   "id": "3cf543c4",
   "metadata": {},
   "outputs": [],
   "source": [
    "def triangle_lambda(a,h):\n",
    "    '''\n",
    "    Return a lambda object that takes in a base and height of triangle\n",
    "    and computes the area.\n",
    "\n",
    "    Arguments:\n",
    "    None\n",
    "\n",
    "    Returns:\n",
    "    lambda_triangle_area: the lambda\n",
    "    '''\n",
    "    return a*h/2"
   ]
  },
  {
   "cell_type": "code",
   "execution_count": 120,
   "id": "4ed11a2a",
   "metadata": {},
   "outputs": [
    {
     "data": {
      "text/plain": [
       "24.0"
      ]
     },
     "execution_count": 120,
     "metadata": {},
     "output_type": "execute_result"
    }
   ],
   "source": [
    "area=triangle_lambda(6,8)\n",
    "area"
   ]
  },
  {
   "cell_type": "code",
   "execution_count": 125,
   "id": "8dcf47cf",
   "metadata": {},
   "outputs": [],
   "source": [
    "def sort_words(hyphen_str):\n",
    "    '''\n",
    "    Write a Python program that accepts a hyphen-separated sequence of words \n",
    "    as input, and prints the words in a hyphen-separated sequence after \n",
    "    sorting them alphabetically.\n",
    "\n",
    "    Expected output:\n",
    "    sort_words('green-red-yellow-black-white')\n",
    "    >>> 'black-green-red-white-yellow'\n",
    "    \n",
    "    Arguments:\n",
    "    hyphen_str: input string separated by hyphen\n",
    "\n",
    "    Returns:\n",
    "    sorted_str: string in a hyphen-separated sequence after \n",
    "    sorting them alphabetically\n",
    "    '''\n",
    "\n",
    "    # code up your solution here\n",
    "    if '-' in hyphen_str:\n",
    "        hyphen_str = hyphen_str.split('-')\n",
    "        hyphen_str.sort()\n",
    "        return '-'.join(hyphen_str)\n",
    "    else:\n",
    "        return 'Not a Hyphen Str'"
   ]
  },
  {
   "cell_type": "code",
   "execution_count": 126,
   "id": "817d30df",
   "metadata": {},
   "outputs": [
    {
     "data": {
      "text/plain": [
       "'black-green-red-white-yellow'"
      ]
     },
     "execution_count": 126,
     "metadata": {},
     "output_type": "execute_result"
    }
   ],
   "source": [
    "sort_words('green-red-yellow-black-white')"
   ]
  },
  {
   "cell_type": "code",
   "execution_count": 127,
   "id": "8f52d5f6",
   "metadata": {},
   "outputs": [
    {
     "data": {
      "text/plain": [
       "'Not a Hyphen Str'"
      ]
     },
     "execution_count": 127,
     "metadata": {},
     "output_type": "execute_result"
    }
   ],
   "source": [
    "sort_words('green red yellow black white')"
   ]
  },
  {
   "cell_type": "code",
   "execution_count": 139,
   "id": "d873da51",
   "metadata": {},
   "outputs": [],
   "source": [
    "def perfect_number(number):\n",
    "    '''\n",
    "    Write a Python function to check whether a number is perfect or not.\n",
    "\n",
    "    A perfect number is a positive integer that is equal to the sum of \n",
    "    its proper positive divisors. Equivalently, a perfect number is a number \n",
    "    that is half the sum of all of its positive divisors (including itself).\n",
    "\n",
    "    Example: 6 is a perfect number as 1+2+3=6. Also by the second definition,\n",
    "    (1+2+3+6)/2=6. Next perfect number is 28=1+2+4+7+14. Next two perfect\n",
    "    numbers are 496 and 8128.\n",
    "\n",
    "    Argument:\n",
    "    number: number to check\n",
    "\n",
    "    Returns:\n",
    "    perfect: boolean, True if number is perfect\n",
    "    '''\n",
    "\n",
    "    # code up your answer here\n",
    "    divisor_list = []\n",
    "    if number > 0:\n",
    "        for i in range(1, number+1):\n",
    "            if number % i ==0:\n",
    "                divisor_list.append(i)\n",
    "        if sum(divisor_list)/2 ==number:\n",
    "            return 'The number {0} is perfect'.format(number),divisor_list\n",
    "        else:\n",
    "            return 'The number {0} is not perfect'.format(number), divisor_list\n",
    "    else:\n",
    "        return 'The number {0} is not positive'.format(number)"
   ]
  },
  {
   "cell_type": "code",
   "execution_count": 145,
   "id": "576a8ee4",
   "metadata": {},
   "outputs": [
    {
     "data": {
      "text/plain": [
       "('The number 8128 is perfect',\n",
       " [1, 2, 4, 8, 16, 32, 64, 127, 254, 508, 1016, 2032, 4064, 8128])"
      ]
     },
     "execution_count": 145,
     "metadata": {},
     "output_type": "execute_result"
    }
   ],
   "source": [
    "perfect_number(8128)"
   ]
  },
  {
   "cell_type": "code",
   "execution_count": null,
   "id": "2f851880",
   "metadata": {},
   "outputs": [],
   "source": []
  }
 ],
 "metadata": {
  "kernelspec": {
   "display_name": "Python 3",
   "language": "python",
   "name": "python3"
  },
  "language_info": {
   "codemirror_mode": {
    "name": "ipython",
    "version": 3
   },
   "file_extension": ".py",
   "mimetype": "text/x-python",
   "name": "python",
   "nbconvert_exporter": "python",
   "pygments_lexer": "ipython3",
   "version": "3.7.10"
  }
 },
 "nbformat": 4,
 "nbformat_minor": 5
}
